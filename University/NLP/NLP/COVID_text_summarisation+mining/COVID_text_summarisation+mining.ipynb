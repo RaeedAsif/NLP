{
 "cells": [
  {
   "cell_type": "code",
   "execution_count": 3,
   "metadata": {},
   "outputs": [],
   "source": [
    "#!pip install PyPDF2\n",
    "#!pip install textract\n",
    "#!pip install wordcloud\n",
    "#!pip install nltk\n",
    "#!pip install gensim\n",
    "#!pip install spacy\n",
    "#!pip install pyLDAvis\n",
    "#!nltk.download('punkt') # one time execution\n",
    "#nltk.download('stopwords') # one time execution"
   ]
  },
  {
   "cell_type": "code",
   "execution_count": 1,
   "metadata": {},
   "outputs": [],
   "source": [
    "import os\n",
    "import re\n",
    "\n",
    "# DS tools\n",
    "import numpy as np\n",
    "import pandas as pd\n",
    "import spacy\n",
    "\n",
    "# nltk tools\n",
    "import nltk\n",
    "from nltk.tokenize import sent_tokenize\n",
    "from nltk.corpus import stopwords\n",
    "\n",
    "from sklearn.metrics.pairwise import cosine_similarity\n",
    "import networkx as nx\n"
   ]
  },
  {
   "cell_type": "code",
   "execution_count": 2,
   "metadata": {},
   "outputs": [
    {
     "data": {
      "text/plain": [
       "'Introduction\\n\\nCOVID-19, initially observed/detected in Hubei province of China during December 2019, has since spread to all but a handful countries, causing (as of the time of writing) an estimated 855,000 infections and 42,000 deaths ( [8] , March 31st). COVID-19 has a basic reproductive number, R 0 , currently estimated in the region of 2.5 -3 [5] . Social distance and general quarantine measures can reduce R 0 temporarily, but not permanently. For R 0 = 3, left unchecked COVID-19 can be expected to infect more than 90% of our community, with 30% of the population infected at the epidemic peak. Even with significant quarantine measures in place the population will not reach \"herd immunity\" to this virus until 2/3 of the population has gained resistance-either through vaccination, or infection and subsequent recovery.In order to place these numbers in a concrete context, a recent survey in New Zealand indicated that the country had a total of 520 ventilator machines [7] . Given the country\\'s demographics (see table 1) , and current estimates of 1 Table 1 : Here we provide demographic data for New Zealand [2] , along with risk of ICU admission per infection for each age group [1] . Finally we give the expected number of ICU admissions, assuming 2/3 rd s of each age category becomes infected over the course of the epidemic-the minimum required to reach herd immunity.Age This is 15 times more demand than could be accommodated in the expected 4 month span of an unmitigated epidemic. The details of this calculation may vary from country to county, but the final conclusion is ubiquitous -hospitals are not prepared for this disease. Efforts to \"flatten the curve\" will need to reduce the epidemic peak not merely by a factor of two, but instead by an order of magnitude or more. Even in the most optimistic scenarios, for the most well equipped countries, such efforts must be maintained for years on end.Societal lockdown may be effective at eradicating COVID-19 locally, but when lockdown is complete a large susceptible population will remain; if the virus is later re-introduced, as expected in our globalized and interconnected world, a new epidemic is likely to occur. While buying time allows for manufacturing of new medical equipment, and further scientific investigations, such efforts can not be maintained indefinitely. For this reason it proves necessary to discuss not just what quarantine measures are needed, but also how society might return to normal, and over what time frame this can be achieved.\\n\\nTargeted Quarantine and Release\\n\\nAs has been observed in South Korea [4] , death rate is tightly correlated with age. While deaths in younger age categories are observed, a recent report from Italy [3] indicates that the vast majority of deaths occur in patients with known pathologies. It should thus be possible to predict who is most at risk with high 2 . CC-BY 4.0 International license It is made available under a author/funder, who has granted medRxiv a license to display the preprint in perpetuity.is the (which was not peer-reviewed) The copyright holder for this preprint . 2 Figure 1 : A schematic illustration of targeted quarantine. 1) we isolate at risk populations as quickly, and as strictly as possible. 2) COVID-19 is allow to spread through the large, low risk population. This leads to a small number of hospitalizations, which the hospital system is able to cope with. 3) The low risk population recovers, and herd immunity is achieved. 4) Quarantine is (cautiously) removed, and high risk individuals are able to return to normal social activity.fidelity. By controlling which 2/3rds of the population become infected we may avoid overtaxing the healthcare system and thus minimise mortality. We consider a strategy in which initially all of society (bar essential service workers) are locked down for two to four weeks so as to brake the initial uncontrolled epidemic spread. At the end of this time, rather then reduce quarantine measures uniformly over all society, a government could instead engage in a program of \\'targeted quarantine\\'; those individuals with no risk factors would be encouraged to return to work and socialize, while at risk individuals would be asked to remain at home under strict quarantine. The infection would be allowed to pass through the large, low risk population, resulting in a small number of ICU admissions due to occasional unexpected complications. Once the epidemic has passed through the low risk population, quarantine measures can be lowered in stages, with each stage exposing successively higher risk populations. Despite the increased risk on the individual level, the reduced susceptible population for each subsequent stage would lead to a natural \\'flattening of the curve\\', 3 . CC-BY 4.0 International license It is made available under a author/funder, who has granted medRxiv a license to display the preprint in perpetuity.is the (which was not peer-reviewed) The copyright holder for this preprint . and a smaller fraction of these later populations becoming infected. Eventually herd immunity would be achieved, and isolation measures can be safely dropped for the entire population.Similar strategies were alluded to by Ferguson et al [1] , who advised social distancing for those over the age of 70, and investigated explicitly by Chikina & Pegden [6] , who completed a comprehensive sensitivity analysis suggesting a significant reduction in mortality for a wide range of parameters. Both papers however, proposed a fixed age of division (70 and 65 years of age, respectively), and explored what might be considered reasonable parameter ranges in terms of levels of isolation possible, predicting, even in their most optimistic estimates, hundreds of thousands of fatalities. There is, however, no reason to restrict the targeted quarantine threshold to 65 or 70 years of age, and, as we shall show, lowering this age threshold to 50 can reduce fatalities substantially.\\n\\nThe Model\\n\\nIn order to illustrate the general approach described above, we consider a simple SIR type model, in which our population is divided both by disease status (Susceptible, Infected, Recovered), and by age cohort. Here we lump people by decade, as this is the granularity that fatality rates and ICU admission data are reported. We assume fixed recovery rate γ = 0.1 days −1 , and a fixed infection rate β = 0.25 days −1 . Interactions between age cohorts are governed by the contact matrix κ(t). Entry κ i,j gives the contact rate between age cohort i and age cohort j. This is the system parameter that can be changed through public policy and human behavior.In order to simulate targeted quarantine measures, we select some threshold age T , and some time window (t s , t e ) during which quarantine measures apply. We define two contact matrices, one for the quarantine period, and one for the non-quarantine period. These matrices take the form:4 . CC-BY 4.0 International license It is made available under a author/funder, who has granted medRxiv a license to display the preprint in perpetuity.is the (which was not peer-reviewed) The copyright holder for this preprint .During quarantine, we assume a contact rate κ i,j (t) = κ Q = 0.1, for individuals within the quarantine (i, j > T ), and κ i,j (t) = κ × = 0.1 across the quarantine barrier. Individuals outside of the quarantine group (i, j ≤ T ) have contact rate κ i,j (t) = κ F = N/N nq where N nq is the total population not in quarantine (N q gives the population in quarantine. Similarly S q gives the susceptible population under quarantine, and I nq gives the infectious population not under quarantine). This choice of κ F approximately preserves the total number of interactions experienced by the out of quarantine population.ICU demand at any given time is given by α k I k , where here α k is the probability of ICU admission for age category k (see table 1 ). Cumulative ICU bed demand is α k (I k +R k ). Full R code for all models is publicly available on Github 1 . Readers are encouraged to adapt demographic and clinical parameters based on their own circumstances, and in response to further research.\\n\\nResults\\n\\nSimulation of the above system for a range of quarantine thresholds T results in ICU demand as depicted in Figure 2 . Figure 3 summarizes peak ICU demand as a function of T. Peak ICU demand is minimized for a quarantined threshold of T ≈ 40, and total ICU demand is minimized for T ≈ 50.In order to understand the importance of our various quarantine compliance parameters, it proves useful to determine the total number of infections due to \"quarantine leakage\". This value is well approximated byDerivation of this expression is given in the Appendix. Figure 4 gives a visual representation of this expression. Most critically we observe in the above equation that all reductions in κ × lead to a corresponding reduction in infections -halving κ × will (approximately) halve the number of quarantined individuals getting infected. The importance of κ Q depends on its value; whenever γ βκ Q N q /N quarantine measures are strict enough to prevent self-sustaining chains of infection in the quarantine population and κ Q has only moderate impact. However, as κ Q approaches the threshold γ = βκ Q N q /N , the system becomes extremely sensitive to κ Q , and even modest reductions in this contact rate are critical So far we have seen how careful selection of age threshold can reduce ICU admission (figure 3), and also how reducing cross quarantine contact reduces infection ( figure 4 ). This leads naturally to the question of \"What is our best case scenario? How do we get there?\". In figure 3 we showed how a single stage quarantine approach can decrease mortality. In figure 5 we show that a two stage quarantine approach can do even better, under ideal circumstances bringing peak ICU demand below capacity. Given that ICU overflow translates almost directly to patient mortality, this is a very desirable goal.1 https://github.com/alastair-JL/COVID strategy 5 . CC-BY 4.0 International license It is made available under a author/funder, who has granted medRxiv a license to display the preprint in perpetuity.is the (which was not peer-reviewed) The copyright holder for this preprint . Figure 2 : Epidemic curves dependent on where we place our age cut off for quarantine, T. Total Ventilator numbers are given by the black line. Note that the results of quarantining everyone and quarantining no one are largely the same, with quarantine simply delaying the peak. An age cut off of 50 years (teal curve) captures a large enough portion of the population to achieve herd immunity, while reducing fatalities compared to cut offs at 60 or 70 years. Figure 3 : Depending on the placement of our quarantine threshold, both peak and total ICU admissions vary. Given that hospital facilities are rapidly overwhelmed in even the best case scenario above, total ICU demand is expected to be a close proxy for total fatalities. A threshold at 50 years of age minimizes this number.\\n\\n6\\n\\n. CC-BY 4.0 International license It is made available under a author/funder, who has granted medRxiv a license to display the preprint in perpetuity.is the (which was not peer-reviewed) The copyright holder for this preprint . 5: Assuming perfect quarantine between age groups (κ × = 0), we are able to keep ICU demand below ICU capacity using a multi-stage release strategy. For the red curve, we assume quarantine of everyone over 50 years of age from day 65 to 160, and quarantine of everyone over 60 years of age from day 160 to 255 (that is to say, 3 month intervals for each stage of isolation). At no point is the under 50 population required to remain in quarantine, although moderate social distancing is required in the first 3 month window. An alternative strategy (blue), extends quarantine until day 290 (an extra month). This extended quarantine of the over 60 group reduces total ICU admissions from 17500 to 11400, and spreads these resulting admissions over a far wider time span.\\n\\n7\\n\\n. CC-BY 4.0 International license It is made available under a author/funder, who has granted medRxiv a license to display the preprint in perpetuity.is the (which was not peer-reviewed) The copyright holder for this preprint . https://doi.org/10.1101/2020.04.01.20049692 doi: medRxiv preprint 5 Discussion\\n\\nLogistics\\n\\nAbove we have implemented a variety of possible containment strategies through simply changing a few parameter values. Implementing such policies in real life will be significantly harder. A few of the most pressing logistical issues which need analysis are:• Establishing food delivery infrastructure so that quarantined individuals can stay at home.• Partitioning health care facilities so as to prevent mixing between quarantine groups.• Communication and public education so that people understand both what is required for the approach to work, and how it benefits them.• Rearranging our workforce, given the large number of senior staff who will no longer be available in person.• Identifying new jobs that will need to be carried out, so as to maintain quarantine as effectively as possible?• Investigation and community engagement with \\'de-mixing\\' households, so that people in different quarantine groups are no longer living with one another. Such measures may be disruptive, but are likely necessary if we wish to minimize κ × , and would (for example) involve children staying with aunties and uncles, or family friends, rather than grandparents. Individuals in the quarantine group currently living alone might consider moving in with other quarantined persons, and university students would be required not to return to their parents households.\\n\\nAssumptions to be Investigated\\n\\nWe have explored means of minimizing the death toll and burden on the medical system. This work is based on a number of assumptions. Each of these assumptions must be verified before any of the above plans are implemented:• We have taken the ICU admission rates provided by Ferguson et al. as our baseline assumption [1] . If it is later found that the ICU admission risk amongst younger generations are higher than expected, it is likely that ICU capacity will be exceeded. Nonetheless, separation of age cohorts still leads to a net improvement in outcome, as it allows the medical system to deal with separate epidemic peaks as opposed to a single larger peak [6] .• We assumed that infection provides immunity, or at least resistance to COVID-19. If it is found that infection does not result in subsequent resistance, or resistance is short lived, then any protocol that depends on herd immunity will fail. 8 . CC-BY 4.0 International license It is made available under a author/funder, who has granted medRxiv a license to display the preprint in perpetuity.is the (which was not peer-reviewed) The copyright holder for this preprint .• We have made simplifying assumptions about community structure. It is likely that community structure (for example, retirement homes, where high risk individuals interact frequently with other high risk individuals) may increase the threshold required for herd immunity to be acquired.\\n\\nOpportunities\\n\\nThere are a number of research avenues that may improve upon the outcomes we have described. We have considered a simple age structured population; this was driven primarily by the availability of age structured ICU risk data. With better understanding of the underlying health conditions associated with severe COVID-19 outcomes, and better demographic data on the frequency of these risks, it will be possible to pre-isolate high risk individuals in our under 50 age cohort, and simultaneously, reduce quarantine requirements for individuals over 50 who have a clean bill of health. We assumed a \"predetermined\" epidemic response strategy. Future developments in serological testing would allow more dynamic strategies to be adopted, based on weekly testing of antibody levels in the population; decisions on quarantine measures could then be made based on observed immunity levels in the population, rather than simply occurring at three month intervals. Such screening and feedback would greatly mitigate the various uncertainties in the model. Finally, although here we have considered age-targeted quarantine approaches as they apply to the population of New Zealand, this was merely for the sake of concreteness; nothing in the approach described is specific to that country.Readers are encouraged to make use of our code, and explore the dynamics given their own local demographic data.\\n\\nConclusions\\n\\nWhile previous authors [1] [6] have alluded to and explored the use of age targeting, they have done so in the limited sense of quarantining retirees, and assumed moderate social distancing measures are implemented. Here we argue that this undersells the potential effectiveness of the targeted quarantine approach; any government willing to take the extraordinary measure of shutting down all of society should, at the very least, consider the significantly less drastic measure of quarantining one third of their population.To the low risk population, our strategy offers a fast return to functional society, and, for those few who do get sick, access to medical facilities and staff who are dealing with a manageable number of cases. To those under isolation, targeted quarantine offers the possibility of avoiding COVID-19 altogether. By releasing a large portion of the population from lockdown after a small number of weeks, age-targeted quarantine balances the need to maintain a functional society and economy, with the limitations of hospital resources, and has the potential to significantly reduce casualties.\\n\\n9\\n\\n. CC-BY 4.0 International license It is made available under a author/funder, who has granted medRxiv a license to display the preprint in perpetuity.is the (which was not peer-reviewed) The copyright holder for this preprint . https://doi.org/10.1101/2020.04.01.20049692 doi: medRxiv preprint 8 Appendix: Analytic formula for the effects of quarantine leakageIn order to understand the effects of our various parameters, we wish to estimate the effects of \\'quarantine leakage\\'. While simulations determine such results quickly enough, determination of an analytic expression is useful for quickly judging the importance of each parameter. In order to determine such a formula, we proceed in three steps.\\n\\n10\\n\\n. CC-BY 4.0 International license It is made available under a author/funder, who has granted medRxiv a license to display the preprint in perpetuity.is the (which was not peer-reviewed) The copyright holder for this preprint . https://doi.org/10.1101/2020.04.01.20049692 doi: medRxiv preprint First, we calculate the number of infections a quarantined individual expected to receive from the non-quarantined population. This is equal to ∞ 0 βκ× N I nq dt. BecauseṘ nq = γI nq we find ∞ 0 βκ× N I nq dt ≈ βκ× γN R nq (∞). The value R nq (∞) is a function of R 0 , found by solving 1 − R nq (∞) = exp[−R 0 R nq (∞)]. In the case R 0 = 2.5, R nq (∞) = 0.89.For our next step, we must account for the fact that infections that enter our quarantined population may then spread (especially important when κ × < κ Q ). Whenever γ > βκ Q Nq N , transmission is unable to sustain itself and this spread can be modeled as a subcritical branching process. Such a process has leads to an expected population of γ/(γ − βκ Q N q /N ) infections before extinctionthat is to say, each imported infection is expected to lead to γ/(γ − βκ Q N q /N ) infections total.Multiplying the results of the previous two steps gives λ = R nq βκ× N γ−βκ Q Nq , the total number of infections due to quarantine leakage that each quarantined individual expects to encounter. The actual number of infections a given individual receives is Poisson distributed, and the probability of receiving zero infections is thus given by e − .In total combining the above, we end up withindividual infected due to quarantine leakage. This is give as equation 5 in the main text.\\n\\n11\\n\\n. CC-BY 4.0 International license It is made available under a author/funder, who has granted medRxiv a license to display the preprint in perpetuity.is the (which was not peer-reviewed) The copyright holder for this preprint . https://doi.org/10.1101/2020.04.01.20049692 doi: medRxiv preprint\\n\\n'"
      ]
     },
     "execution_count": 2,
     "metadata": {},
     "output_type": "execute_result"
    }
   ],
   "source": [
    "#biorxiv ,parse JSON and to csv\n",
    "biorxiv_clean = pd.read_csv(\"data/biorxiv_clean.csv\")\n",
    "biorxiv_clean[\"text\"][0]"
   ]
  },
  {
   "cell_type": "code",
   "execution_count": 3,
   "metadata": {},
   "outputs": [],
   "source": [
    "# Filter papers containing all words in list\n",
    "def filter_papers_word_list(word_list):\n",
    "    papers_id_list = []\n",
    "    for idx, paper in biorxiv_clean.iterrows():\n",
    "        if all(x in paper.text for x in word_list):\n",
    "            papers_id_list.append(paper.paper_id)\n",
    "\n",
    "    return papers_id_list"
   ]
  },
  {
   "cell_type": "code",
   "execution_count": 4,
   "metadata": {},
   "outputs": [
    {
     "name": "stdout",
     "output_type": "stream",
     "text": [
      "Papers containing coronavirus:  1\n"
     ]
    }
   ],
   "source": [
    "pd.set_option(\"display.max_colwidth\", 100000) # Extend the display width to prevent split functions to not cover full text\n",
    "biorxiv_environment = filter_papers_word_list([\"coronavirus\",\"tissue\",\"immune\",\"disease\",\"gene\",\"drug\",'sars','cov'])\n",
    "print(\"Papers containing coronavirus: \", len(biorxiv_environment))"
   ]
  },
  {
   "cell_type": "code",
   "execution_count": 5,
   "metadata": {},
   "outputs": [],
   "source": [
    "def extract_conclusion(df, papers_id_list):\n",
    "    data = df.loc[df['paper_id'].isin(papers_id_list)]\n",
    "    conclusion = []\n",
    "    for idx, paper in data.iterrows():\n",
    "        paper_text = paper.text\n",
    "        if \"\\nConclusion\\n\" in paper.text:\n",
    "            conclusion.append(paper_text.split('\\nConclusion\\n')[1])\n",
    "        else:\n",
    "            conclusion.append(\"No Conclusion section\")\n",
    "    data['conclusion'] = conclusion\n",
    "        \n",
    "    return data\n",
    "\n",
    "pd.reset_option('^display.', silent=True)"
   ]
  },
  {
   "cell_type": "code",
   "execution_count": 6,
   "metadata": {},
   "outputs": [
    {
     "name": "stderr",
     "output_type": "stream",
     "text": [
      "/Users/raeedasif/opt/anaconda3/lib/python3.7/site-packages/ipykernel_launcher.py:10: SettingWithCopyWarning: \n",
      "A value is trying to be set on a copy of a slice from a DataFrame.\n",
      "Try using .loc[row_indexer,col_indexer] = value instead\n",
      "\n",
      "See the caveats in the documentation: https://pandas.pydata.org/pandas-docs/stable/user_guide/indexing.html#returning-a-view-versus-a-copy\n",
      "  # Remove the CWD from sys.path while we load stuff.\n"
     ]
    },
    {
     "data": {
      "text/plain": [
       "99    INTRODUCTION Purpose and Research Questions\\n\\...\n",
       "Name: text, dtype: object"
      ]
     },
     "execution_count": 6,
     "metadata": {},
     "output_type": "execute_result"
    }
   ],
   "source": [
    "environ_trans_conclusion = extract_conclusion(biorxiv_clean, biorxiv_environment)\n",
    "environ_trans_conclusion[\"text\"]"
   ]
  },
  {
   "cell_type": "code",
   "execution_count": 40,
   "metadata": {},
   "outputs": [
    {
     "name": "stdout",
     "output_type": "stream",
     "text": [
      "INTRODUCTION Purpose and Research Questions\n",
      "\n",
      "The Infection Prevention & Control of the World Health Organization (WHO) Health Emergency Programme presented a query on preventing and managing COVID-19 in older adults aged 60 years and above living in long-term care facilities including privately paid for and publicly paid for settings with a 5-business day timeline.\n"
     ]
    }
   ],
   "source": [
    "sentences = []\n",
    "for s in environ_trans_conclusion[\"text\"]:\n",
    "    sentences.append(sent_tokenize(s))\n",
    "\n",
    "sentences = [y for x in sentences for y in x] # flatten list\n",
    "print(sentences[0])"
   ]
  },
  {
   "cell_type": "code",
   "execution_count": 28,
   "metadata": {},
   "outputs": [
    {
     "name": "stdout",
     "output_type": "stream",
     "text": [
      "/bin/sh: wget: command not found\n",
      "unzip:  cannot find or open glove*.zip, glove*.zip.zip or glove*.zip.ZIP.\n",
      "\n",
      "No zipfiles found.\n"
     ]
    }
   ],
   "source": [
    "!wget http://nlp.stanford.edu/data/glove.6B.zip\n",
    "!unzip glove*.zip"
   ]
  },
  {
   "cell_type": "code",
   "execution_count": 41,
   "metadata": {},
   "outputs": [],
   "source": [
    "# Extract word vectors\n",
    "word_embeddings = {}\n",
    "f = open('data/glove.6B/glove.6B.100d.txt', encoding='utf-8')\n",
    "for line in f:\n",
    "    values = line.split()\n",
    "    word = values[0]\n",
    "    coefs = np.asarray(values[1:], dtype='float32')\n",
    "    word_embeddings[word] = coefs\n",
    "f.close()"
   ]
  },
  {
   "cell_type": "code",
   "execution_count": 42,
   "metadata": {},
   "outputs": [],
   "source": [
    "# remove punctuations, numbers and special characters\n",
    "clean_sentences = pd.Series(sentences).str.replace(\"[^a-zA-Z]\", \" \")\n",
    "\n",
    "# make alphabets lowercase\n",
    "clean_sentences = [s.lower() for s in clean_sentences]\n",
    "\n",
    "#stopwords retrieval\n",
    "stop_words = stopwords.words('english')"
   ]
  },
  {
   "cell_type": "code",
   "execution_count": 43,
   "metadata": {},
   "outputs": [],
   "source": [
    "def remove_stopwords(sen):\n",
    "    sen_new = \" \".join([i for i in sen if i not in stop_words])\n",
    "    return sen_new"
   ]
  },
  {
   "cell_type": "code",
   "execution_count": 44,
   "metadata": {},
   "outputs": [
    {
     "name": "stdout",
     "output_type": "stream",
     "text": [
      "3603\n"
     ]
    }
   ],
   "source": [
    "# remove stopwords from the sentences\n",
    "clean_sentences = [remove_stopwords(r.split()) for r in clean_sentences]\n",
    "print(len(clean_sentences))"
   ]
  },
  {
   "cell_type": "code",
   "execution_count": 45,
   "metadata": {},
   "outputs": [],
   "source": [
    "sentence_vectors = []\n",
    "for i in clean_sentences:\n",
    "    if len(i) != 0:\n",
    "        v = sum([word_embeddings.get(w, np.zeros((100,))) for w in i.split()])/(len(i.split())+0.001)\n",
    "    else:\n",
    "        v = np.zeros((100,))\n",
    "    sentence_vectors.append(v)"
   ]
  },
  {
   "cell_type": "code",
   "execution_count": 46,
   "metadata": {},
   "outputs": [
    {
     "ename": "KeyboardInterrupt",
     "evalue": "",
     "output_type": "error",
     "traceback": [
      "\u001b[0;31m---------------------------------------------------------------------------\u001b[0m",
      "\u001b[0;31mKeyboardInterrupt\u001b[0m                         Traceback (most recent call last)",
      "\u001b[0;32m<ipython-input-46-1f91b9107c42>\u001b[0m in \u001b[0;36m<module>\u001b[0;34m\u001b[0m\n\u001b[1;32m      5\u001b[0m     \u001b[0;32mfor\u001b[0m \u001b[0mj\u001b[0m \u001b[0;32min\u001b[0m \u001b[0mrange\u001b[0m\u001b[0;34m(\u001b[0m\u001b[0mlen\u001b[0m\u001b[0;34m(\u001b[0m\u001b[0msentences\u001b[0m\u001b[0;34m)\u001b[0m\u001b[0;34m)\u001b[0m\u001b[0;34m:\u001b[0m\u001b[0;34m\u001b[0m\u001b[0;34m\u001b[0m\u001b[0m\n\u001b[1;32m      6\u001b[0m         \u001b[0;32mif\u001b[0m \u001b[0mi\u001b[0m \u001b[0;34m!=\u001b[0m \u001b[0mj\u001b[0m\u001b[0;34m:\u001b[0m\u001b[0;34m\u001b[0m\u001b[0;34m\u001b[0m\u001b[0m\n\u001b[0;32m----> 7\u001b[0;31m             \u001b[0msim_mat\u001b[0m\u001b[0;34m[\u001b[0m\u001b[0mi\u001b[0m\u001b[0;34m]\u001b[0m\u001b[0;34m[\u001b[0m\u001b[0mj\u001b[0m\u001b[0;34m]\u001b[0m \u001b[0;34m=\u001b[0m \u001b[0mcosine_similarity\u001b[0m\u001b[0;34m(\u001b[0m\u001b[0msentence_vectors\u001b[0m\u001b[0;34m[\u001b[0m\u001b[0mi\u001b[0m\u001b[0;34m]\u001b[0m\u001b[0;34m.\u001b[0m\u001b[0mreshape\u001b[0m\u001b[0;34m(\u001b[0m\u001b[0;36m1\u001b[0m\u001b[0;34m,\u001b[0m\u001b[0;36m100\u001b[0m\u001b[0;34m)\u001b[0m\u001b[0;34m,\u001b[0m \u001b[0msentence_vectors\u001b[0m\u001b[0;34m[\u001b[0m\u001b[0mj\u001b[0m\u001b[0;34m]\u001b[0m\u001b[0;34m.\u001b[0m\u001b[0mreshape\u001b[0m\u001b[0;34m(\u001b[0m\u001b[0;36m1\u001b[0m\u001b[0;34m,\u001b[0m\u001b[0;36m100\u001b[0m\u001b[0;34m)\u001b[0m\u001b[0;34m)\u001b[0m\u001b[0;34m[\u001b[0m\u001b[0;36m0\u001b[0m\u001b[0;34m,\u001b[0m\u001b[0;36m0\u001b[0m\u001b[0;34m]\u001b[0m\u001b[0;34m\u001b[0m\u001b[0;34m\u001b[0m\u001b[0m\n\u001b[0m",
      "\u001b[0;32m~/opt/anaconda3/lib/python3.7/site-packages/sklearn/metrics/pairwise.py\u001b[0m in \u001b[0;36mcosine_similarity\u001b[0;34m(X, Y, dense_output)\u001b[0m\n\u001b[1;32m   1171\u001b[0m         \u001b[0mY_normalized\u001b[0m \u001b[0;34m=\u001b[0m \u001b[0mX_normalized\u001b[0m\u001b[0;34m\u001b[0m\u001b[0;34m\u001b[0m\u001b[0m\n\u001b[1;32m   1172\u001b[0m     \u001b[0;32melse\u001b[0m\u001b[0;34m:\u001b[0m\u001b[0;34m\u001b[0m\u001b[0;34m\u001b[0m\u001b[0m\n\u001b[0;32m-> 1173\u001b[0;31m         \u001b[0mY_normalized\u001b[0m \u001b[0;34m=\u001b[0m \u001b[0mnormalize\u001b[0m\u001b[0;34m(\u001b[0m\u001b[0mY\u001b[0m\u001b[0;34m,\u001b[0m \u001b[0mcopy\u001b[0m\u001b[0;34m=\u001b[0m\u001b[0;32mTrue\u001b[0m\u001b[0;34m)\u001b[0m\u001b[0;34m\u001b[0m\u001b[0;34m\u001b[0m\u001b[0m\n\u001b[0m\u001b[1;32m   1174\u001b[0m \u001b[0;34m\u001b[0m\u001b[0m\n\u001b[1;32m   1175\u001b[0m     K = safe_sparse_dot(X_normalized, Y_normalized.T,\n",
      "\u001b[0;32m~/opt/anaconda3/lib/python3.7/site-packages/sklearn/preprocessing/_data.py\u001b[0m in \u001b[0;36mnormalize\u001b[0;34m(X, norm, axis, copy, return_norm)\u001b[0m\n\u001b[1;32m   1703\u001b[0m \u001b[0;34m\u001b[0m\u001b[0m\n\u001b[1;32m   1704\u001b[0m     X = check_array(X, sparse_format, copy=copy,\n\u001b[0;32m-> 1705\u001b[0;31m                     estimator='the normalize function', dtype=FLOAT_DTYPES)\n\u001b[0m\u001b[1;32m   1706\u001b[0m     \u001b[0;32mif\u001b[0m \u001b[0maxis\u001b[0m \u001b[0;34m==\u001b[0m \u001b[0;36m0\u001b[0m\u001b[0;34m:\u001b[0m\u001b[0;34m\u001b[0m\u001b[0;34m\u001b[0m\u001b[0m\n\u001b[1;32m   1707\u001b[0m         \u001b[0mX\u001b[0m \u001b[0;34m=\u001b[0m \u001b[0mX\u001b[0m\u001b[0;34m.\u001b[0m\u001b[0mT\u001b[0m\u001b[0;34m\u001b[0m\u001b[0;34m\u001b[0m\u001b[0m\n",
      "\u001b[0;32m~/opt/anaconda3/lib/python3.7/site-packages/sklearn/utils/validation.py\u001b[0m in \u001b[0;36mcheck_array\u001b[0;34m(array, accept_sparse, accept_large_sparse, dtype, order, copy, force_all_finite, ensure_2d, allow_nd, ensure_min_samples, ensure_min_features, warn_on_dtype, estimator)\u001b[0m\n\u001b[1;32m    576\u001b[0m         \u001b[0;32mif\u001b[0m \u001b[0mforce_all_finite\u001b[0m\u001b[0;34m:\u001b[0m\u001b[0;34m\u001b[0m\u001b[0;34m\u001b[0m\u001b[0m\n\u001b[1;32m    577\u001b[0m             _assert_all_finite(array,\n\u001b[0;32m--> 578\u001b[0;31m                                allow_nan=force_all_finite == 'allow-nan')\n\u001b[0m\u001b[1;32m    579\u001b[0m \u001b[0;34m\u001b[0m\u001b[0m\n\u001b[1;32m    580\u001b[0m     \u001b[0;32mif\u001b[0m \u001b[0mensure_min_samples\u001b[0m \u001b[0;34m>\u001b[0m \u001b[0;36m0\u001b[0m\u001b[0;34m:\u001b[0m\u001b[0;34m\u001b[0m\u001b[0;34m\u001b[0m\u001b[0m\n",
      "\u001b[0;32m~/opt/anaconda3/lib/python3.7/site-packages/sklearn/utils/validation.py\u001b[0m in \u001b[0;36m_assert_all_finite\u001b[0;34m(X, allow_nan, msg_dtype)\u001b[0m\n\u001b[1;32m     48\u001b[0m     \u001b[0;31m# safely to reduce dtype induced overflows.\u001b[0m\u001b[0;34m\u001b[0m\u001b[0;34m\u001b[0m\u001b[0;34m\u001b[0m\u001b[0m\n\u001b[1;32m     49\u001b[0m     \u001b[0mis_float\u001b[0m \u001b[0;34m=\u001b[0m \u001b[0mX\u001b[0m\u001b[0;34m.\u001b[0m\u001b[0mdtype\u001b[0m\u001b[0;34m.\u001b[0m\u001b[0mkind\u001b[0m \u001b[0;32min\u001b[0m \u001b[0;34m'fc'\u001b[0m\u001b[0;34m\u001b[0m\u001b[0;34m\u001b[0m\u001b[0m\n\u001b[0;32m---> 50\u001b[0;31m     \u001b[0;32mif\u001b[0m \u001b[0mis_float\u001b[0m \u001b[0;32mand\u001b[0m \u001b[0;34m(\u001b[0m\u001b[0mnp\u001b[0m\u001b[0;34m.\u001b[0m\u001b[0misfinite\u001b[0m\u001b[0;34m(\u001b[0m\u001b[0m_safe_accumulator_op\u001b[0m\u001b[0;34m(\u001b[0m\u001b[0mnp\u001b[0m\u001b[0;34m.\u001b[0m\u001b[0msum\u001b[0m\u001b[0;34m,\u001b[0m \u001b[0mX\u001b[0m\u001b[0;34m)\u001b[0m\u001b[0;34m)\u001b[0m\u001b[0;34m)\u001b[0m\u001b[0;34m:\u001b[0m\u001b[0;34m\u001b[0m\u001b[0;34m\u001b[0m\u001b[0m\n\u001b[0m\u001b[1;32m     51\u001b[0m         \u001b[0;32mpass\u001b[0m\u001b[0;34m\u001b[0m\u001b[0;34m\u001b[0m\u001b[0m\n\u001b[1;32m     52\u001b[0m     \u001b[0;32melif\u001b[0m \u001b[0mis_float\u001b[0m\u001b[0;34m:\u001b[0m\u001b[0;34m\u001b[0m\u001b[0;34m\u001b[0m\u001b[0m\n",
      "\u001b[0;32m~/opt/anaconda3/lib/python3.7/site-packages/sklearn/utils/extmath.py\u001b[0m in \u001b[0;36m_safe_accumulator_op\u001b[0;34m(op, x, *args, **kwargs)\u001b[0m\n\u001b[1;32m    704\u001b[0m         \u001b[0mresult\u001b[0m \u001b[0;34m=\u001b[0m \u001b[0mop\u001b[0m\u001b[0;34m(\u001b[0m\u001b[0mx\u001b[0m\u001b[0;34m,\u001b[0m \u001b[0;34m*\u001b[0m\u001b[0margs\u001b[0m\u001b[0;34m,\u001b[0m \u001b[0;34m**\u001b[0m\u001b[0mkwargs\u001b[0m\u001b[0;34m,\u001b[0m \u001b[0mdtype\u001b[0m\u001b[0;34m=\u001b[0m\u001b[0mnp\u001b[0m\u001b[0;34m.\u001b[0m\u001b[0mfloat64\u001b[0m\u001b[0;34m)\u001b[0m\u001b[0;34m\u001b[0m\u001b[0;34m\u001b[0m\u001b[0m\n\u001b[1;32m    705\u001b[0m     \u001b[0;32melse\u001b[0m\u001b[0;34m:\u001b[0m\u001b[0;34m\u001b[0m\u001b[0;34m\u001b[0m\u001b[0m\n\u001b[0;32m--> 706\u001b[0;31m         \u001b[0mresult\u001b[0m \u001b[0;34m=\u001b[0m \u001b[0mop\u001b[0m\u001b[0;34m(\u001b[0m\u001b[0mx\u001b[0m\u001b[0;34m,\u001b[0m \u001b[0;34m*\u001b[0m\u001b[0margs\u001b[0m\u001b[0;34m,\u001b[0m \u001b[0;34m**\u001b[0m\u001b[0mkwargs\u001b[0m\u001b[0;34m)\u001b[0m\u001b[0;34m\u001b[0m\u001b[0;34m\u001b[0m\u001b[0m\n\u001b[0m\u001b[1;32m    707\u001b[0m     \u001b[0;32mreturn\u001b[0m \u001b[0mresult\u001b[0m\u001b[0;34m\u001b[0m\u001b[0;34m\u001b[0m\u001b[0m\n\u001b[1;32m    708\u001b[0m \u001b[0;34m\u001b[0m\u001b[0m\n",
      "\u001b[0;32m<__array_function__ internals>\u001b[0m in \u001b[0;36msum\u001b[0;34m(*args, **kwargs)\u001b[0m\n",
      "\u001b[0;32m~/opt/anaconda3/lib/python3.7/site-packages/numpy/core/fromnumeric.py\u001b[0m in \u001b[0;36msum\u001b[0;34m(a, axis, dtype, out, keepdims, initial, where)\u001b[0m\n\u001b[1;32m   2227\u001b[0m \u001b[0;34m\u001b[0m\u001b[0m\n\u001b[1;32m   2228\u001b[0m     return _wrapreduction(a, np.add, 'sum', axis, dtype, out, keepdims=keepdims,\n\u001b[0;32m-> 2229\u001b[0;31m                           initial=initial, where=where)\n\u001b[0m\u001b[1;32m   2230\u001b[0m \u001b[0;34m\u001b[0m\u001b[0m\n\u001b[1;32m   2231\u001b[0m \u001b[0;34m\u001b[0m\u001b[0m\n",
      "\u001b[0;32m~/opt/anaconda3/lib/python3.7/site-packages/numpy/core/fromnumeric.py\u001b[0m in \u001b[0;36m_wrapreduction\u001b[0;34m(obj, ufunc, method, axis, dtype, out, **kwargs)\u001b[0m\n\u001b[1;32m     88\u001b[0m                 \u001b[0;32mreturn\u001b[0m \u001b[0mreduction\u001b[0m\u001b[0;34m(\u001b[0m\u001b[0maxis\u001b[0m\u001b[0;34m=\u001b[0m\u001b[0maxis\u001b[0m\u001b[0;34m,\u001b[0m \u001b[0mout\u001b[0m\u001b[0;34m=\u001b[0m\u001b[0mout\u001b[0m\u001b[0;34m,\u001b[0m \u001b[0;34m**\u001b[0m\u001b[0mpasskwargs\u001b[0m\u001b[0;34m)\u001b[0m\u001b[0;34m\u001b[0m\u001b[0;34m\u001b[0m\u001b[0m\n\u001b[1;32m     89\u001b[0m \u001b[0;34m\u001b[0m\u001b[0m\n\u001b[0;32m---> 90\u001b[0;31m     \u001b[0;32mreturn\u001b[0m \u001b[0mufunc\u001b[0m\u001b[0;34m.\u001b[0m\u001b[0mreduce\u001b[0m\u001b[0;34m(\u001b[0m\u001b[0mobj\u001b[0m\u001b[0;34m,\u001b[0m \u001b[0maxis\u001b[0m\u001b[0;34m,\u001b[0m \u001b[0mdtype\u001b[0m\u001b[0;34m,\u001b[0m \u001b[0mout\u001b[0m\u001b[0;34m,\u001b[0m \u001b[0;34m**\u001b[0m\u001b[0mpasskwargs\u001b[0m\u001b[0;34m)\u001b[0m\u001b[0;34m\u001b[0m\u001b[0;34m\u001b[0m\u001b[0m\n\u001b[0m\u001b[1;32m     91\u001b[0m \u001b[0;34m\u001b[0m\u001b[0m\n\u001b[1;32m     92\u001b[0m \u001b[0;34m\u001b[0m\u001b[0m\n",
      "\u001b[0;31mKeyboardInterrupt\u001b[0m: "
     ]
    }
   ],
   "source": [
    "# similarity matrix\n",
    "sim_mat = np.zeros([len(sentences), len(sentences)])\n",
    "\n",
    "for i in range(len(sentences)):\n",
    "    for j in range(len(sentences)):\n",
    "        if i != j:\n",
    "            sim_mat[i][j] = cosine_similarity(sentence_vectors[i].reshape(1,100), sentence_vectors[j].reshape(1,100))[0,0]\n"
   ]
  },
  {
   "cell_type": "code",
   "execution_count": null,
   "metadata": {},
   "outputs": [],
   "source": [
    "nx_graph = nx.from_numpy_array(sim_mat)\n",
    "scores = nx.pagerank(nx_graph)\n",
    "\n",
    "ranked_sentences = sorted(((scores[i],s) for i,s in enumerate(sentences)), reverse=True)"
   ]
  },
  {
   "cell_type": "code",
   "execution_count": null,
   "metadata": {},
   "outputs": [],
   "source": [
    "\n",
    "# Extract top 10 sentences as the summary\n",
    "for i in range(5):\n",
    "    print(ranked_sentences[i][1])"
   ]
  },
  {
   "cell_type": "code",
   "execution_count": null,
   "metadata": {},
   "outputs": [],
   "source": []
  }
 ],
 "metadata": {
  "kernelspec": {
   "display_name": "Python 3",
   "language": "python",
   "name": "python3"
  },
  "language_info": {
   "codemirror_mode": {
    "name": "ipython",
    "version": 3
   },
   "file_extension": ".py",
   "mimetype": "text/x-python",
   "name": "python",
   "nbconvert_exporter": "python",
   "pygments_lexer": "ipython3",
   "version": "3.7.6"
  }
 },
 "nbformat": 4,
 "nbformat_minor": 4
}
