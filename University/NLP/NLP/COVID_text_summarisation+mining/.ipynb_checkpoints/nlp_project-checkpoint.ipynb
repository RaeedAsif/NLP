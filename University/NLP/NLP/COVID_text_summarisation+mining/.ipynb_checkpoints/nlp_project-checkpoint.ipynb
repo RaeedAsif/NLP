{
 "cells": [
  {
   "cell_type": "code",
   "execution_count": 328,
   "metadata": {},
   "outputs": [],
   "source": [
    "#!pip install PyPDF2\n",
    "#!pip install textract\n",
    "#!pip install wordcloud\n",
    "#!pip install nltk\n",
    "#!pip install gensim\n",
    "#!pip install spacy\n",
    "#!pip install pyLDAvis"
   ]
  },
  {
   "cell_type": "code",
   "execution_count": 321,
   "metadata": {},
   "outputs": [],
   "source": [
    "import PyPDF2\n",
    "import textract\n",
    "import os\n",
    "\n",
    "# DS tools\n",
    "import pandas\n",
    "import spacy\n",
    "\n",
    "#wordcoud tools\n",
    "from wordcloud import WordCloud, STOPWORDS\n",
    "import matplotlib.pyplot as plt\n",
    "from tqdm import tqdm_notebook\n",
    "\n",
    "# NLTK tools\n",
    "from nltk.tokenize import word_tokenize\n",
    "from nltk.corpus import stopwords\n",
    "from nltk.stem import WordNetLemmatizer\n",
    "\n",
    "# Gensim tools\n",
    "import gensim\n",
    "import gensim.corpora as corpora\n",
    "from gensim.utils import simple_preprocess\n",
    "from gensim.models import CoherenceModel\n",
    "\n",
    "# Plotting tools\n",
    "import pyLDAvis\n",
    "import pyLDAvis.gensim  "
   ]
  },
  {
   "cell_type": "code",
   "execution_count": 322,
   "metadata": {},
   "outputs": [],
   "source": [
    "def remove_stopwords(texts):\n",
    "    return [[word for word in simple_preprocess(str(doc)) if word not in stop_words] for doc in texts]\n",
    "\n",
    "def make_bigrams(texts):\n",
    "    return [bigram_mod[doc] for doc in texts]\n",
    "\n",
    "def make_trigrams(texts):\n",
    "    return [trigram_mod[bigram_mod[doc]] for doc in texts]\n",
    "\n",
    "def lemmatization(texts, allowed_postags=['NOUN', 'ADJ', 'VERB', 'ADV']):\n",
    "    \"\"\"https://spacy.io/api/annotation\"\"\"\n",
    "    texts_out = []\n",
    "    for sent in texts:\n",
    "        doc = nlp(\" \".join(sent)) \n",
    "        texts_out.append([token.lemma_ for token in doc if token.pos_ in allowed_postags])\n",
    "    return texts_out"
   ]
  },
  {
   "cell_type": "code",
   "execution_count": 225,
   "metadata": {},
   "outputs": [],
   "source": [
    "#preprocessing\n",
    "path = \"data/\"\n",
    "filenames = [filename for filename in os.listdir(path) if filename.endswith(\".pdf\")]\n",
    "pdfFileObjs = [open(path+filename,'rb') for filename in filenames]\n",
    "pdfReaderList = [PyPDF2.PdfFileReader(pdfFileObj) for pdfFileObj in pdfFileObjs]\n",
    "num_pages = [pdfReader.numPages for pdfReader in pdfReaderList]\n",
    "\n",
    "texts = []\n",
    "corpus = []\n",
    "\n",
    "for idx,num in enumerate(num_pages):\n",
    "    count = 0\n",
    "    text = \"\"\n",
    "    while count < num:\n",
    "        pageObj = pdfReader[idx].getPage(count)\n",
    "        count += 1\n",
    "        text += pageObj.extractText()\n",
    "    if text != \"\":\n",
    "        text = text\n",
    "    else:\n",
    "        text = textract.process(data+filenames[idx], method='tesseract', language='eng')\n",
    "    \n",
    "    texts.append(text)\n",
    "\n",
    "corpus = [preprocess(text) for text in texts]\n",
    "#0,2\n",
    "#text1 = textract.process(path+\"paper2.pdf\", method='tesseract', language='eng')"
   ]
  },
  {
   "cell_type": "code",
   "execution_count": 323,
   "metadata": {},
   "outputs": [
    {
     "data": {
      "text/html": [
       "<div>\n",
       "<style scoped>\n",
       "    .dataframe tbody tr th:only-of-type {\n",
       "        vertical-align: middle;\n",
       "    }\n",
       "\n",
       "    .dataframe tbody tr th {\n",
       "        vertical-align: top;\n",
       "    }\n",
       "\n",
       "    .dataframe thead th {\n",
       "        text-align: right;\n",
       "    }\n",
       "</style>\n",
       "<table border=\"1\" class=\"dataframe\">\n",
       "  <thead>\n",
       "    <tr style=\"text-align: right;\">\n",
       "      <th></th>\n",
       "      <th>paper_id</th>\n",
       "      <th>title</th>\n",
       "      <th>authors</th>\n",
       "      <th>affiliations</th>\n",
       "      <th>abstract</th>\n",
       "      <th>text</th>\n",
       "      <th>bibliography</th>\n",
       "      <th>raw_authors</th>\n",
       "      <th>raw_bibliography</th>\n",
       "    </tr>\n",
       "  </thead>\n",
       "  <tbody>\n",
       "    <tr>\n",
       "      <th>0</th>\n",
       "      <td>bbf09194127619f57b3ddf5daf684593a5831367</td>\n",
       "      <td>The Effectiveness of Targeted Quarantine for M...</td>\n",
       "      <td>Alastair Jamieson-Lane, Eric Cytrnbaum</td>\n",
       "      <td>Alastair Jamieson-Lane (Carl von Ossietzky Uni...</td>\n",
       "      <td>Abstract\\n\\nWe model the extent to which age t...</td>\n",
       "      <td>Introduction\\n\\nCOVID-19, initially observed/d...</td>\n",
       "      <td>Impact of non-pharmaceutical interventions (NP...</td>\n",
       "      <td>[{'first': 'Alastair', 'middle': [], 'last': '...</td>\n",
       "      <td>{'BIBREF0': {'ref_id': 'b0', 'title': 'Impact ...</td>\n",
       "    </tr>\n",
       "  </tbody>\n",
       "</table>\n",
       "</div>"
      ],
      "text/plain": [
       "                                   paper_id  \\\n",
       "0  bbf09194127619f57b3ddf5daf684593a5831367   \n",
       "\n",
       "                                               title  \\\n",
       "0  The Effectiveness of Targeted Quarantine for M...   \n",
       "\n",
       "                                  authors  \\\n",
       "0  Alastair Jamieson-Lane, Eric Cytrnbaum   \n",
       "\n",
       "                                        affiliations  \\\n",
       "0  Alastair Jamieson-Lane (Carl von Ossietzky Uni...   \n",
       "\n",
       "                                            abstract  \\\n",
       "0  Abstract\\n\\nWe model the extent to which age t...   \n",
       "\n",
       "                                                text  \\\n",
       "0  Introduction\\n\\nCOVID-19, initially observed/d...   \n",
       "\n",
       "                                        bibliography  \\\n",
       "0  Impact of non-pharmaceutical interventions (NP...   \n",
       "\n",
       "                                         raw_authors  \\\n",
       "0  [{'first': 'Alastair', 'middle': [], 'last': '...   \n",
       "\n",
       "                                    raw_bibliography  \n",
       "0  {'BIBREF0': {'ref_id': 'b0', 'title': 'Impact ...  "
      ]
     },
     "execution_count": 323,
     "metadata": {},
     "output_type": "execute_result"
    }
   ],
   "source": [
    "#biorxiv ,parse JSON and to csv\n",
    "biorxiv = pd.read_csv(\"data/biorxiv_clean.csv\")\n",
    "biorxiv.head(1)"
   ]
  },
  {
   "cell_type": "code",
   "execution_count": 324,
   "metadata": {},
   "outputs": [],
   "source": [
    "# Filter papers containing all words in list\n",
    "def filter_papers_word_list(word_list):\n",
    "    papers_id_list = []\n",
    "    for idx, paper in biorxiv.iterrows():\n",
    "        if all(x in paper.text for x in word_list):\n",
    "            papers_id_list.append(paper.paper_id)\n",
    "\n",
    "    return papers_id_list"
   ]
  },
  {
   "cell_type": "code",
   "execution_count": 325,
   "metadata": {},
   "outputs": [
    {
     "name": "stdout",
     "output_type": "stream",
     "text": [
      "Papers containing coronavirus:  969\n"
     ]
    }
   ],
   "source": [
    "pd.set_option(\"display.max_colwidth\", 100000) # Extend the display width to prevent split functions to not cover full text\n",
    "biorxiv_environment = filter_papers_word_list([\"coronavirus\"])\n",
    "print(\"Papers containing coronavirus: \", len(biorxiv_environment))"
   ]
  },
  {
   "cell_type": "code",
   "execution_count": 326,
   "metadata": {},
   "outputs": [],
   "source": [
    "def extract_conclusion(df, papers_id_list):\n",
    "    data = df.loc[df['paper_id'].isin(papers_id_list)]\n",
    "    conclusion = []\n",
    "    for idx, paper in data.iterrows():\n",
    "        paper_text = paper.text\n",
    "        if \"\\nConclusion\\n\" in paper.text:\n",
    "            conclusion.append(paper_text.split('\\nConclusion\\n')[1])\n",
    "        else:\n",
    "            conclusion.append(\"No Conclusion section\")\n",
    "    data['conclusion'] = conclusion\n",
    "        \n",
    "    return data\n",
    "\n",
    "pd.reset_option('^display.', silent=True)"
   ]
  },
  {
   "cell_type": "code",
   "execution_count": 327,
   "metadata": {},
   "outputs": [
    {
     "name": "stderr",
     "output_type": "stream",
     "text": [
      "SettingWithCopyWarning: \n",
      "A value is trying to be set on a copy of a slice from a DataFrame.\n",
      "Try using .loc[row_indexer,col_indexer] = value instead\n",
      "\n",
      "See the caveats in the documentation: https://pandas.pydata.org/pandas-docs/stable/user_guide/indexing.html#returning-a-view-versus-a-copy [ipykernel_launcher.py:10]\n"
     ]
    },
    {
     "data": {
      "text/html": [
       "<div>\n",
       "<style scoped>\n",
       "    .dataframe tbody tr th:only-of-type {\n",
       "        vertical-align: middle;\n",
       "    }\n",
       "\n",
       "    .dataframe tbody tr th {\n",
       "        vertical-align: top;\n",
       "    }\n",
       "\n",
       "    .dataframe thead th {\n",
       "        text-align: right;\n",
       "    }\n",
       "</style>\n",
       "<table border=\"1\" class=\"dataframe\">\n",
       "  <thead>\n",
       "    <tr style=\"text-align: right;\">\n",
       "      <th></th>\n",
       "      <th>paper_id</th>\n",
       "      <th>title</th>\n",
       "      <th>authors</th>\n",
       "      <th>affiliations</th>\n",
       "      <th>abstract</th>\n",
       "      <th>text</th>\n",
       "      <th>bibliography</th>\n",
       "      <th>raw_authors</th>\n",
       "      <th>raw_bibliography</th>\n",
       "      <th>conclusion</th>\n",
       "    </tr>\n",
       "  </thead>\n",
       "  <tbody>\n",
       "    <tr>\n",
       "      <th>1</th>\n",
       "      <td>2a21fdd15e07c89c88e8c2f6c6ab5692568876ec</td>\n",
       "      <td>Evaluation of Group Testing for SARS-CoV-2 RNA</td>\n",
       "      <td>Nasa Sinnott-Armstrong, Daniel L Klein, Brenda...</td>\n",
       "      <td>Nasa Sinnott-Armstrong, Daniel L Klein, Brenda...</td>\n",
       "      <td>Abstract\\n\\nDuring the current COVID-19 pandem...</td>\n",
       "      <td>Introduction\\n\\nGroup testing was first descri...</td>\n",
       "      <td>In one Italian town, we showed mass testing co...</td>\n",
       "      <td>[{'first': 'Nasa', 'middle': [], 'last': 'Sinn...</td>\n",
       "      <td>{'BIBREF0': {'ref_id': 'b0', 'title': 'In one ...</td>\n",
       "      <td>No Conclusion section</td>\n",
       "    </tr>\n",
       "  </tbody>\n",
       "</table>\n",
       "</div>"
      ],
      "text/plain": [
       "                                   paper_id  \\\n",
       "1  2a21fdd15e07c89c88e8c2f6c6ab5692568876ec   \n",
       "\n",
       "                                            title  \\\n",
       "1  Evaluation of Group Testing for SARS-CoV-2 RNA   \n",
       "\n",
       "                                             authors  \\\n",
       "1  Nasa Sinnott-Armstrong, Daniel L Klein, Brenda...   \n",
       "\n",
       "                                        affiliations  \\\n",
       "1  Nasa Sinnott-Armstrong, Daniel L Klein, Brenda...   \n",
       "\n",
       "                                            abstract  \\\n",
       "1  Abstract\\n\\nDuring the current COVID-19 pandem...   \n",
       "\n",
       "                                                text  \\\n",
       "1  Introduction\\n\\nGroup testing was first descri...   \n",
       "\n",
       "                                        bibliography  \\\n",
       "1  In one Italian town, we showed mass testing co...   \n",
       "\n",
       "                                         raw_authors  \\\n",
       "1  [{'first': 'Nasa', 'middle': [], 'last': 'Sinn...   \n",
       "\n",
       "                                    raw_bibliography             conclusion  \n",
       "1  {'BIBREF0': {'ref_id': 'b0', 'title': 'In one ...  No Conclusion section  "
      ]
     },
     "execution_count": 327,
     "metadata": {},
     "output_type": "execute_result"
    }
   ],
   "source": [
    "environ_trans_conclusion = extract_conclusion(biorxiv, biorxiv_environment)\n",
    "environ_trans_conclusion.head(1)"
   ]
  },
  {
   "cell_type": "code",
   "execution_count": 238,
   "metadata": {},
   "outputs": [],
   "source": [
    "stopwords = set(STOPWORDS)\n",
    "#https://www.kaggle.com/gpreda/cord-19-solution-toolbox\n",
    "\n",
    "def show_wordcloud(data, title = None):\n",
    "    wordcloud = WordCloud(\n",
    "        background_color='white',\n",
    "        stopwords=stopwords,\n",
    "        max_words=200,\n",
    "        max_font_size=30, \n",
    "        scale=5,\n",
    "        random_state=1\n",
    "    ).generate(str(data))\n",
    "\n",
    "    fig = plt.figure(1, figsize=(10,10))\n",
    "    plt.axis('off')\n",
    "    if title: \n",
    "        fig.suptitle(title, fontsize=14)\n",
    "        fig.subplots_adjust(top=2.3)\n",
    "\n",
    "    plt.imshow(wordcloud)\n",
    "    plt.show()"
   ]
  },
  {
   "cell_type": "code",
   "execution_count": 239,
   "metadata": {},
   "outputs": [
    {
     "data": {
      "image/png": "[encoded data removed]",
      "text/plain": [
       "<Figure size 720x720 with 1 Axes>"
      ]
     },
     "metadata": {
      "needs_background": "light"
     },
     "output_type": "display_data"
    }
   ],
   "source": [
    "show_wordcloud(environ_trans_conclusion['abstract']+environ_trans_conclusion['conclusion'], title = 'biorxiv_clean - papers conclusion+abstract - frequent words (400 sample)')"
   ]
  },
  {
   "cell_type": "code",
   "execution_count": 233,
   "metadata": {},
   "outputs": [],
   "source": [
    "df = environ_trans_conclusion\n",
    "df = df.abstract.dropna()\n",
    "data_abstract = df.values.tolist()"
   ]
  },
  {
   "cell_type": "code",
   "execution_count": 279,
   "metadata": {},
   "outputs": [
    {
     "name": "stdout",
     "output_type": "stream",
     "text": [
      "driving car \n",
      "[['driving', 'car'], ['drive', 'car', 'carefully'], ['student', 'and', 'university']]\n"
     ]
    }
   ],
   "source": [
    "df = environ_trans_conclusion\n",
    "df = df.conclusion.dropna()\n",
    "data_conclusion = df.values.tolist()"
   ]
  },
  {
   "cell_type": "code",
   "execution_count": 255,
   "metadata": {},
   "outputs": [
    {
     "name": "stdout",
     "output_type": "stream",
     "text": [
      "['Abstract', 'Different', 'ways', 'of', 'calculating', 'mortality', 'ratios', 'during', 'epidemics', 'can', 'yield', 'widely', 'different', 'results,', 'particularly', 'during', 'the', 'COVID-19', 'pandemic.', 'We', 'formulate', 'both', 'a', 'survival', 'probability', 'model', 'and', 'an', 'associated', 'infection', 'duration-dependent', 'SIR_model', 'to', 'define', 'individual-and', 'population-based', 'estimates', 'of', 'dynamic', 'mortality', 'ratios.', 'The', 'key', 'parameters', 'that', 'affect', 'the', 'dynamics', 'of', 'the', 'different', 'mortality', 'estimates', 'are', 'the', 'incubation_period', 'and', 'the', 'length', 'of', 'time', 'individuals', 'were', 'infected', 'before', 'confirmation', 'of', 'infection.', 'We', 'stress', 'that', 'none', 'of', 'these', 'ratios', 'are', 'accurately', 'represented', 'by', 'the', 'often', 'misinterpreted', 'case_fatality', 'ratio', '(CFR),', 'the', 'number', 'of', 'deaths', 'to', 'date', 'divided', 'by', 'the', 'total_number', 'of', 'infected_cases', 'to', 'date.', 'Using', 'available', 'data', 'on', 'the', 'recent', 'SARS-CoV-2', 'outbreaks', 'and', 'simple', 'assumptions,', 'we', 'estimate', 'and', 'compare', 'the', 'different', 'dynamic', 'mortality', 'ratios', 'and', 'highlight', 'their', 'differences.', 'Informed', 'by', 'our', 'modeling,', 'we_propose', 'a', 'more', 'systematic', 'method', 'to', 'determine', 'mortality', 'ratios', 'during', 'epidemic', 'outbreaks', 'and', 'discuss', 'sensitivity', 'to', 'confounding', 'effects', 'and', 'errors', 'in', 'the', 'data.']\n"
     ]
    }
   ],
   "source": [
    "data_words = [data.split() for data in data_abstract]\n",
    "# topic modelling, document indexing and similarity retrieval with large corpora.\n",
    "# Build the bigram and trigram models\n",
    "\n",
    "bigram = gensim.models.Phrases(data_words, min_count=5, threshold=20) # higher threshold fewer phrases.\n",
    "trigram = gensim.models.Phrases(bigram[data_words], threshold=20)  \n",
    "\n",
    "# Faster way to get a sentence clubbed as a trigram/bigram\n",
    "bigram_mod = gensim.models.phrases.Phraser(bigram)\n",
    "trigram_mod = gensim.models.phrases.Phraser(trigram)\n",
    "\n",
    "# See trigram example\n",
    "print(trigram_mod[bigram_mod[data_words[1]]])"
   ]
  },
  {
   "cell_type": "code",
   "execution_count": 303,
   "metadata": {},
   "outputs": [
    {
     "name": "stdout",
     "output_type": "stream",
     "text": [
      "86\n"
     ]
    }
   ],
   "source": [
    "# Remove Stop Words\n",
    "data_words_nostops = remove_stopwords(data_words)\n",
    "\n",
    "# Form Bigrams\n",
    "data_words_bigrams = make_bigrams(data_words_nostops)\n",
    "\n",
    "# Do lemmatization keeping only noun, adj, vb, adv\n",
    "data_lemmatized = lemmatization(data_words_bigrams, allowed_postags=['NOUN', 'ADJ', 'VERB', 'ADV'])\n",
    "print(len(data_lemmatized[1]))"
   ]
  },
  {
   "cell_type": "code",
   "execution_count": 305,
   "metadata": {},
   "outputs": [
    {
     "name": "stdout",
     "output_type": "stream",
     "text": [
      "[[(0, 1), (1, 1), (2, 1), (3, 2), (4, 1), (5, 1), (6, 1), (7, 3), (8, 2), (9, 1), (10, 1), (11, 1), (12, 1), (13, 1), (14, 3), (15, 1), (16, 1), (17, 1), (18, 1), (19, 1), (20, 1), (21, 1), (22, 1), (23, 1), (24, 1), (25, 2), (26, 1), (27, 1), (28, 1), (29, 4), (30, 3), (31, 1), (32, 1), (33, 1), (34, 1), (35, 1), (36, 1), (37, 1), (38, 2), (39, 1), (40, 1), (41, 1), (42, 1), (43, 1), (44, 1), (45, 1), (46, 1), (47, 1), (48, 1), (49, 3), (50, 1), (51, 1), (52, 1), (53, 3), (54, 1), (55, 1), (56, 1), (57, 1), (58, 2), (59, 1), (60, 3), (61, 1), (62, 1), (63, 1), (64, 1), (65, 1), (66, 1), (67, 11), (68, 3), (69, 1), (70, 1), (71, 1), (72, 1), (73, 1), (74, 2), (75, 1)]]\n"
     ]
    }
   ],
   "source": [
    "# Create Dictionary\n",
    "id2word = corpora.Dictionary(data_lemmatized)\n",
    "\n",
    "# Create Corpus\n",
    "texts = data_lemmatized\n",
    "\n",
    "# Term Document Frequency\n",
    "corpus = [id2word.doc2bow(text) for text in texts]\n",
    "\n",
    "# View\n",
    "print(corpus[:1])"
   ]
  },
  {
   "cell_type": "code",
   "execution_count": 306,
   "metadata": {},
   "outputs": [
    {
     "data": {
      "text/plain": [
       "[[('ability', 1),\n",
       "  ('accurately', 1),\n",
       "  ('adopt', 1),\n",
       "  ('asymptomatic', 2),\n",
       "  ('availability', 1),\n",
       "  ('become', 1),\n",
       "  ('behavioral', 1),\n",
       "  ('case', 3),\n",
       "  ('change', 2),\n",
       "  ('cost', 1),\n",
       "  ('could', 1),\n",
       "  ('country', 1),\n",
       "  ('covid', 1),\n",
       "  ('criterion', 1),\n",
       "  ('current', 3),\n",
       "  ('detect', 1),\n",
       "  ('determine', 1),\n",
       "  ('develop', 1),\n",
       "  ('diagnostic', 1),\n",
       "  ('disease', 1),\n",
       "  ('double', 1),\n",
       "  ('draw', 1),\n",
       "  ('effective', 1),\n",
       "  ('enable', 1),\n",
       "  ('factor', 1),\n",
       "  ('fold', 2),\n",
       "  ('go', 1),\n",
       "  ('group_teste', 1),\n",
       "  ('identify', 1),\n",
       "  ('individual', 4),\n",
       "  ('kit', 3),\n",
       "  ('limit', 1),\n",
       "  ('limited', 1),\n",
       "  ('limiting', 1),\n",
       "  ('literature', 1),\n",
       "  ('low', 1),\n",
       "  ('major', 1),\n",
       "  ('match', 1),\n",
       "  ('mild', 2),\n",
       "  ('modeling', 1),\n",
       "  ('negative', 1),\n",
       "  ('number', 1),\n",
       "  ('optimize', 1),\n",
       "  ('otherwise', 1),\n",
       "  ('pandemic', 1),\n",
       "  ('patient', 1),\n",
       "  ('pool', 1),\n",
       "  ('pooling', 1),\n",
       "  ('practical', 1),\n",
       "  ('prevalence', 3),\n",
       "  ('protocol', 1),\n",
       "  ('quantify', 1),\n",
       "  ('randomize', 1),\n",
       "  ('reduce', 3),\n",
       "  ('rely', 1),\n",
       "  ('restrictive', 1),\n",
       "  ('risk', 1),\n",
       "  ('slow', 1),\n",
       "  ('spread', 2),\n",
       "  ('status', 1),\n",
       "  ('strategy', 3),\n",
       "  ('stretch', 1),\n",
       "  ('studied', 1),\n",
       "  ('suggest', 1),\n",
       "  ('suited', 1),\n",
       "  ('supplement', 1),\n",
       "  ('supply', 1),\n",
       "  ('test', 11),\n",
       "  ('testing', 3),\n",
       "  ('total_number', 1),\n",
       "  ('understand', 1),\n",
       "  ('untested', 1),\n",
       "  ('use', 1),\n",
       "  ('way', 1),\n",
       "  ('well', 2),\n",
       "  ('would', 1)]]"
      ]
     },
     "execution_count": 306,
     "metadata": {},
     "output_type": "execute_result"
    }
   ],
   "source": [
    "[[(id2word[id], freq) for id, freq in cp] for cp in corpus[:1]]"
   ]
  },
  {
   "cell_type": "code",
   "execution_count": 307,
   "metadata": {},
   "outputs": [],
   "source": [
    "lda_model = gensim.models.ldamodel.LdaModel(corpus=corpus,\n",
    "                                           id2word=id2word,\n",
    "                                           num_topics=8, \n",
    "                                           random_state=100,\n",
    "                                           update_every=1,\n",
    "                                           chunksize=100,\n",
    "                                           passes=10,\n",
    "                                           alpha='auto',\n",
    "                                           per_word_topics=True\n",
    "                                        )"
   ]
  },
  {
   "cell_type": "code",
   "execution_count": 309,
   "metadata": {},
   "outputs": [
    {
     "name": "stdout",
     "output_type": "stream",
     "text": [
      "[(0, '0.096*\"patient\" + 0.025*\"severe\" + 0.024*\"covid\" + 0.020*\"case\" + 0.016*\"symptom\" + 0.013*\"study\" + 0.011*\"include\" + 0.011*\"day\" + 0.011*\"group\" + 0.010*\"disease\"'), (1, '0.026*\"model\" + 0.023*\"case\" + 0.018*\"epidemic\" + 0.016*\"estimate\" + 0.016*\"number\" + 0.014*\"transmission\" + 0.013*\"spread\" + 0.013*\"country\" + 0.012*\"use\" + 0.011*\"time\"'), (2, '0.020*\"virus\" + 0.018*\"protein\" + 0.014*\"human\" + 0.012*\"cell\" + 0.012*\"viral\" + 0.009*\"use\" + 0.009*\"sequence\" + 0.007*\"host\" + 0.007*\"also\" + 0.007*\"identify\"'), (3, '0.019*\"datum\" + 0.017*\"curve\" + 0.010*\"temperature\" + 0.009*\"mean\" + 0.009*\"estimation\" + 0.009*\"amount\" + 0.008*\"parameter\" + 0.008*\"final\" + 0.007*\"climate\" + 0.006*\"forecast\"'), (4, '0.027*\"rnase\" + 0.019*\"pool\" + 0.014*\"male\" + 0.014*\"crp\" + 0.010*\"survival\" + 0.009*\"chronic\" + 0.009*\"uncertainty\" + 0.009*\"independent\" + 0.009*\"ventilator\" + 0.008*\"delivery\"'), (5, '0.015*\"use\" + 0.012*\"test\" + 0.011*\"study\" + 0.010*\"method\" + 0.009*\"covid\" + 0.008*\"author\" + 0.008*\"treatment\" + 0.008*\"detection\" + 0.008*\"base\" + 0.008*\"funder\"'), (6, '0.014*\"change\" + 0.012*\"infection\" + 0.009*\"pattern\" + 0.009*\"study\" + 0.008*\"level\" + 0.007*\"area\" + 0.007*\"disease\" + 0.007*\"transmission\" + 0.006*\"response\" + 0.006*\"virus\"'), (7, '0.024*\"contact\" + 0.021*\"old\" + 0.020*\"age\" + 0.012*\"cap\" + 0.012*\"relevant\" + 0.011*\"social\" + 0.011*\"intervention\" + 0.011*\"duration\" + 0.011*\"reduction\" + 0.010*\"impact\"')]\n"
     ]
    }
   ],
   "source": [
    "print(lda_model.print_topics())\n",
    "doc_lda = lda_model[corpus]"
   ]
  },
  {
   "cell_type": "code",
   "execution_count": 310,
   "metadata": {},
   "outputs": [
    {
     "name": "stdout",
     "output_type": "stream",
     "text": [
      "\n",
      "Perplexity:  -7.493643161884158\n",
      "\n",
      "Coherence Score:  0.46920550107200837\n"
     ]
    }
   ],
   "source": [
    "print('\\nPerplexity: ', lda_model.log_perplexity(corpus))  # a measure of how good the model is. lower the better.\n",
    "\n",
    "coherence_model_lda = CoherenceModel(model=lda_model, texts=data_lemmatized, dictionary=id2word, coherence='c_v')\n",
    "coherence_lda = coherence_model_lda.get_coherence()\n",
    "print('\\nCoherence Score: ', coherence_lda)"
   ]
  },
  {
   "cell_type": "code",
   "execution_count": 316,
   "metadata": {},
   "outputs": [
    {
     "name": "stdout",
     "output_type": "stream",
     "text": [
      "CPU times: user 4.79 s, sys: 153 ms, total: 4.94 s\n",
      "Wall time: 9.48 s\n"
     ]
    },
    {
     "data": {
      "text/html": [
       "\n",
       "<link rel=\"stylesheet\" type=\"text/css\" href=\"https://cdn.rawgit.com/bmabey/pyLDAvis/files/ldavis.v1.0.0.css\">\n",
       "\n",
       "\n",
       "<div id=\"ldavis_el7241130272104481836842629\"></div>\n",
       "<script type=\"text/javascript\">\n",
       "\n",
       "var ldavis_el7241130272104481836842629_data = {\"mdsDat\": {\"x\": [0.0765404159547913, 0.1668064831659554, 0.18964602964365343, 0.1426719819635688, 0.014027835011572664, -0.15885022647336816, -0.19671609640492124, -0.23412642286125274], \"y\": [-0.24402286516436086, -0.02821353619748668, -0.020095871493272514, 0.2397840286927779, 0.02083931835401174, -0.04044540597108247, 0.08448456487724684, -0.012330233097834285], \"topics\": [1, 2, 3, 4, 5, 6, 7, 8], \"cluster\": [1, 1, 1, 1, 1, 1, 1, 1], \"Freq\": [28.699783325195312, 22.967838287353516, 21.365686416625977, 10.627996444702148, 9.017066955566406, 3.2774648666381836, 2.8021059036254883, 1.2420545816421509]}, \"tinfo\": {\"Term\": [\"patient\", \"model\", \"case\", \"protein\", \"covid\", \"severe\", \"epidemic\", \"datum\", \"estimate\", \"human\", \"number\", \"transmission\", \"country\", \"age\", \"intervention\", \"symptom\", \"test\", \"contact\", \"virus\", \"spread\", \"measure\", \"cell\", \"change\", \"day\", \"clinical\", \"study\", \"sequence\", \"death\", \"treatment\", \"use\", \"protein\", \"sequence\", \"host\", \"ace\", \"bind\", \"receptor\", \"genome\", \"expression\", \"structural\", \"replication\", \"epitope\", \"interaction\", \"domain\", \"mer\", \"activity\", \"specie\", \"mutation\", \"express\", \"bat\", \"mediate\", \"animal\", \"mechanism\", \"genetic\", \"site\", \"complex\", \"genomic\", \"encode\", \"nidovirale\", \"evolutionary\", \"resolution\", \"gene\", \"human\", \"structure\", \"coronaviruse\", \"cell\", \"reveal\", \"viral\", \"virus\", \"target\", \"novel\", \"also\", \"suggest\", \"identify\", \"show\", \"use\", \"cause\", \"may\", \"infection\", \"analysis\", \"estimate\", \"epidemic\", \"implement\", \"policy\", \"government\", \"peak\", \"quarantine\", \"trend\", \"exponential\", \"province\", \"cost\", \"demand\", \"country\", \"slow\", \"incubation\", \"containment\", \"damp\", \"simulate\", \"effectiveness\", \"model\", \"control_measure\", \"person\", \"scenario\", \"frequency\", \"impose\", \"document\", \"month\", \"mainland\", \"interval\", \"growth\", \"spread\", \"number\", \"measure\", \"infectious\", \"population\", \"transmission\", \"outbreak\", \"city\", \"public\", \"isolation\", \"death\", \"case\", \"intervention\", \"time\", \"rate\", \"dynamic\", \"control\", \"reduce\", \"report\", \"day\", \"different\", \"strategy\", \"individual\", \"covid\", \"infection\", \"use\", \"datum\", \"base\", \"pandemic\", \"infect\", \"disease\", \"treatment\", \"detection\", \"test\", \"diagnostic\", \"sensitivity\", \"chest\", \"rapid\", \"image\", \"cd\", \"score\", \"accuracy\", \"profile\", \"specificity\", \"cytokine\", \"validation\", \"therapy\", \"algorithm\", \"nucleic_acid\", \"researcher\", \"indicator\", \"auc\", \"investigation\", \"kidney\", \"article\", \"library\", \"version\", \"standard\", \"performance\", \"recommend\", \"prognosis\", \"detect\", \"screen\", \"diagnosis\", \"method\", \"sample\", \"information\", \"negative\", \"dataset\", \"assay\", \"accurate\", \"positive\", \"preprint\", \"author\", \"funder\", \"system\", \"develop\", \"clinical\", \"use\", \"right\", \"antibody\", \"study\", \"permission\", \"base\", \"reserve\", \"reuse_allowed\", \"result\", \"identify\", \"covid\", \"license\", \"display\", \"provide\", \"patient\", \"infection\", \"high\", \"admission\", \"cough\", \"admit\", \"comorbiditie\", \"die\", \"enrol\", \"complication\", \"man\", \"lymphocyte\", \"receive\", \"fever\", \"diabete\", \"hospitalize\", \"woman\", \"clinical_characteristic\", \"retrospectively\", \"sex\", \"hospitalized_patient\", \"ventilation\", \"specimen\", \"hypertension\", \"fatigue\", \"disease_severity\", \"hospitalization\", \"manifestation\", \"observational\", \"bed\", \"opacity\", \"cardiovascular\", \"mean_age\", \"mild\", \"severe\", \"symptom\", \"patient\", \"onset\", \"moderate\", \"hospital\", \"laboratory\", \"discharge\", \"group\", \"year\", \"covid\", \"age\", \"conclusion\", \"day\", \"case\", \"clinical\", \"include\", \"mortality\", \"confirm\", \"compare\", \"study\", \"disease\", \"license\", \"medrxiv\", \"grant\", \"display\", \"report\", \"high\", \"datum\", \"show\", \"pressure\", \"subsequent\", \"other\", \"seek\", \"evolve\", \"liver\", \"topic\", \"ci\", \"note\", \"presentation\", \"route\", \"protective\", \"particle\", \"adapt\", \"frequently\", \"signature\", \"introduction\", \"distribute\", \"orf\", \"carriage\", \"spatial\", \"quick\", \"rise\", \"heat\", \"majority\", \"resident\", \"kit\", \"susceptibility\", \"interestingly\", \"capable\", \"event\", \"pattern\", \"change\", \"area\", \"damage\", \"child\", \"research\", \"relative\", \"association\", \"examine\", \"occur\", \"source\", \"timely\", \"level\", \"infection\", \"observe\", \"respiratory\", \"response\", \"study\", \"proportion\", \"disease\", \"remain\", \"transmission\", \"may\", \"become\", \"virus\", \"large\", \"especially\", \"individual\", \"year\", \"abstract\", \"increase\", \"high\", \"positive\", \"curve\", \"estimation\", \"amount\", \"climate\", \"forecast\", \"analytical\", \"maximum\", \"confirmation\", \"airline\", \"official\", \"approval\", \"sir\", \"inference\", \"drop\", \"temperate\", \"projection\", \"neonatal\", \"wave\", \"inactivation\", \"migration\", \"climatic\", \"environmental\", \"basic_reproduction\", \"numerical\", \"namely\", \"goal\", \"maternal\", \"weather\", \"iranian\", \"european\", \"movement\", \"temperature\", \"final\", \"line\", \"expansion\", \"regression\", \"mean\", \"variable\", \"respect\", \"come\", \"datum\", \"do\", \"parameter\", \"decision\", \"probability\", \"value\", \"global\", \"variation\", \"case\", \"old\", \"cap\", \"relevant\", \"duration\", \"healthcare\", \"symptom_onset\", \"quality\", \"anxiety\", \"psychological\", \"stochastic\", \"sufficient\", \"infectiousness\", \"depression\", \"put\", \"distancing_measure\", \"multivariate\", \"sleep\", \"contact_trace\", \"authority\", \"household\", \"latent\", \"sentiment\", \"airport\", \"tropism\", \"unlikely\", \"percent\", \"ask\", \"discussion\", \"emotion\", \"mobility\", \"survey\", \"contact\", \"reduction\", \"arrival\", \"social\", \"age\", \"adult\", \"intervention\", \"impact\", \"participant\", \"risk\", \"ability\", \"care\", \"self\", \"mean\", \"secondary\", \"low\", \"support\", \"history\", \"conduct\", \"rnase\", \"crp\", \"survival\", \"chronic\", \"uncertainty\", \"ventilator\", \"delivery\", \"gender\", \"cancer\", \"early_renal\", \"respondent\", \"smoker\", \"ifns\", \"dsrna\", \"perceive\", \"systemic\", \"characteristic_curve\", \"copd\", \"balance\", \"smoke\", \"lym\", \"machinery\", \"heart\", \"restrictive\", \"deliver\", \"overwhelmed\", \"confound\", \"homeostasis\", \"deceased\", \"platelet\", \"pool\", \"male\", \"injury\", \"independent\", \"predictor\", \"endogenous\", \"female\", \"stress\", \"trigger\", \"particularly\"], \"Freq\": [1015.0, 527.0, 689.0, 451.0, 590.0, 247.0, 352.0, 397.0, 324.0, 360.0, 338.0, 329.0, 254.0, 142.0, 147.0, 166.0, 216.0, 105.0, 671.0, 271.0, 184.0, 331.0, 137.0, 257.0, 208.0, 525.0, 213.0, 224.0, 155.0, 752.0, 450.4831848144531, 212.7384033203125, 166.91302490234375, 157.8509521484375, 149.48121643066406, 128.54110717773438, 117.3070068359375, 106.06157684326172, 103.64418029785156, 102.48252868652344, 99.34481048583984, 95.31632995605469, 94.0975341796875, 90.68601989746094, 84.8893814086914, 78.79153442382812, 76.52276611328125, 73.77945709228516, 67.21624755859375, 67.1031494140625, 64.53852844238281, 62.35201644897461, 60.31718444824219, 58.59479522705078, 55.591453552246094, 55.48319625854492, 54.665679931640625, 52.506248474121094, 51.931575775146484, 50.88316345214844, 104.70376586914062, 349.2028503417969, 152.63128662109375, 150.5325164794922, 292.11260986328125, 100.44124603271484, 285.1114807128906, 501.1856689453125, 130.50538635253906, 98.58583068847656, 165.8433074951172, 120.8779296875, 161.14834594726562, 160.2772674560547, 219.5307159423828, 126.53260803222656, 129.0694580078125, 133.4640350341797, 109.52144622802734, 322.0775146484375, 349.4476318359375, 81.69340515136719, 68.398193359375, 62.24911880493164, 56.15474319458008, 54.416133880615234, 51.007354736328125, 40.90376663208008, 49.45551300048828, 40.57720947265625, 39.28743362426758, 249.0149383544922, 36.72688293457031, 36.67743682861328, 35.13711166381836, 32.30889129638672, 32.271759033203125, 30.26335906982422, 514.5986328125, 28.798583984375, 28.040786743164062, 69.6163330078125, 26.398574829101562, 25.381834030151367, 24.208620071411133, 24.159141540527344, 24.076950073242188, 23.529539108276367, 51.233638763427734, 254.102783203125, 314.0218811035156, 172.7540740966797, 58.63148498535156, 167.99462890625, 277.8169250488281, 213.61239624023438, 77.99662017822266, 78.30980682373047, 76.70396423339844, 174.44276428222656, 455.7838134765625, 118.9209213256836, 215.2766571044922, 205.78443908691406, 75.87681579589844, 145.15228271484375, 100.13497161865234, 170.04580688476562, 146.53639221191406, 131.12252807617188, 88.65628814697266, 92.37881469726562, 208.09133911132812, 200.45895385742188, 235.5518035888672, 150.96485900878906, 127.1139907836914, 87.33183288574219, 95.13946533203125, 98.41983032226562, 154.33055114746094, 148.38880920410156, 214.32241821289062, 80.44320678710938, 79.7625961303711, 64.4897689819336, 60.54710388183594, 56.95524597167969, 56.10969924926758, 49.76893615722656, 49.182952880859375, 48.78635025024414, 45.6558837890625, 44.756534576416016, 43.28912353515625, 40.996952056884766, 38.2916259765625, 34.82054901123047, 32.9924430847168, 31.319059371948242, 30.96391487121582, 30.720285415649414, 30.272151947021484, 29.775224685668945, 28.84709930419922, 28.672624588012695, 27.863698959350586, 27.578170776367188, 27.523040771484375, 27.313457489013672, 120.29944610595703, 47.943214416503906, 89.22138977050781, 179.5227813720703, 109.075439453125, 120.8298110961914, 64.7671890258789, 59.05531692504883, 48.98944854736328, 39.79790115356445, 113.40394592285156, 129.07456970214844, 155.35919189453125, 141.18243408203125, 101.74604797363281, 119.60859680175781, 121.52525329589844, 283.13128662109375, 115.8004379272461, 74.55206298828125, 195.23968505859375, 109.75835418701172, 146.22218322753906, 108.57042694091797, 106.28024291992188, 136.34866333007812, 124.46692657470703, 157.92686462402344, 106.555908203125, 93.6633529663086, 91.75750732421875, 137.2086944580078, 106.04125213623047, 98.94641876220703, 67.83650970458984, 60.500789642333984, 54.8549919128418, 41.26384353637695, 35.57011032104492, 30.87367820739746, 29.759492874145508, 28.019512176513672, 27.835153579711914, 27.213462829589844, 60.86514663696289, 23.87254524230957, 23.586984634399414, 22.624723434448242, 21.248090744018555, 21.091205596923828, 20.854297637939453, 18.974979400634766, 18.694934844970703, 17.28097152709961, 17.114347457885742, 16.23646354675293, 15.684554100036621, 15.605085372924805, 14.703579902648926, 14.385313034057617, 14.384603500366211, 14.285627365112305, 14.006492614746094, 14.015878677368164, 59.21629333496094, 228.12808227539062, 150.55844116210938, 878.1064453125, 37.87971115112305, 20.884984970092773, 62.65919494628906, 69.90934753417969, 27.37970542907715, 100.34375, 75.79750061035156, 220.52854919433594, 71.72840881347656, 41.094451904296875, 100.9569320678711, 183.13375854492188, 85.93061828613281, 101.9213638305664, 46.02885437011719, 67.73164367675781, 72.57392883300781, 122.41584014892578, 90.31636810302734, 79.98059844970703, 64.99964904785156, 64.67840576171875, 61.84630584716797, 67.42520904541016, 64.74976348876953, 67.07044219970703, 53.74671173095703, 34.466705322265625, 29.57009506225586, 27.24474334716797, 26.816396713256836, 24.821914672851562, 24.702831268310547, 24.16571044921875, 22.590042114257812, 21.876676559448242, 21.104351043701172, 20.51093101501465, 20.293106079101562, 19.995182037353516, 19.867687225341797, 19.702190399169922, 19.123985290527344, 19.013517379760742, 18.835601806640625, 18.736055374145508, 18.665271759033203, 18.35612678527832, 18.143184661865234, 17.981569290161133, 17.946327209472656, 17.711816787719727, 17.67061996459961, 17.148099899291992, 26.2744083404541, 16.344141006469727, 16.2551326751709, 46.60633087158203, 72.46389770507812, 109.23703002929688, 54.631141662597656, 21.784122467041016, 40.245635986328125, 42.565589904785156, 33.743324279785156, 38.75836944580078, 29.762678146362305, 41.01109313964844, 36.95417022705078, 22.548080444335938, 59.247161865234375, 94.8922119140625, 43.10527420043945, 43.41640853881836, 48.86919021606445, 69.91565704345703, 29.604707717895508, 51.32278823852539, 33.0687370300293, 50.570770263671875, 45.87759780883789, 31.502967834472656, 46.624874114990234, 34.99250793457031, 29.38944435119629, 31.96708106994629, 31.233776092529297, 31.799991607666016, 32.09538650512695, 33.023433685302734, 31.125999450683594, 47.67148208618164, 24.375545501708984, 24.37281608581543, 19.507165908813477, 17.756576538085938, 17.69176483154297, 16.139404296875, 13.170668601989746, 12.852107048034668, 12.806715965270996, 12.627373695373535, 12.57613754272461, 11.001976013183594, 10.620208740234375, 10.503625869750977, 9.445111274719238, 9.026021957397461, 8.560110092163086, 8.365240097045898, 8.267003059387207, 8.170610427856445, 8.111654281616211, 8.056936264038086, 8.042096138000488, 7.961435794830322, 7.97830867767334, 7.952580451965332, 7.940350532531738, 7.866901397705078, 7.840623378753662, 13.17740535736084, 28.52994728088379, 22.105243682861328, 15.00083065032959, 15.603349685668945, 13.465446472167969, 25.18851661682129, 17.146493911743164, 13.10072135925293, 15.925537109375, 52.994503021240234, 9.46368408203125, 22.924697875976562, 15.222786903381348, 15.072091102600098, 17.55356216430664, 17.16151237487793, 13.342280387878418, 16.343061447143555, 50.014217376708984, 28.207275390625, 27.87495994567871, 26.050342559814453, 23.72332000732422, 18.701810836791992, 18.31485366821289, 17.92072296142578, 15.020861625671387, 12.476730346679688, 12.141493797302246, 11.519441604614258, 10.048800468444824, 10.032150268554688, 9.863747596740723, 9.852519035339355, 9.69800853729248, 9.49244213104248, 8.716362953186035, 8.388631820678711, 8.008172988891602, 7.892813205718994, 7.5766401290893555, 7.5356621742248535, 7.498686790466309, 7.138052940368652, 7.023948669433594, 6.735241889953613, 6.623317241668701, 6.419921398162842, 16.664966583251953, 58.24790573120117, 25.53914451599121, 12.751852989196777, 27.697751998901367, 47.971466064453125, 17.497241973876953, 27.576519012451172, 24.33656883239746, 16.513568878173828, 20.7141056060791, 14.873472213745117, 13.89394760131836, 12.68751335144043, 13.780881881713867, 13.11142349243164, 16.17458724975586, 13.246699333190918, 12.95644760131836, 12.178657531738281, 28.609018325805664, 14.439095497131348, 10.593156814575195, 9.47665786743164, 9.290093421936035, 9.223871231079102, 8.847525596618652, 8.639972686767578, 7.796764373779297, 7.748213768005371, 7.523440361022949, 6.6693854331970215, 6.650844097137451, 6.650844097137451, 6.518064498901367, 6.519125461578369, 6.065729141235352, 6.003941535949707, 5.772022247314453, 5.469894886016846, 5.083422660827637, 5.126986503601074, 4.498411178588867, 4.2112717628479, 4.104015350341797, 3.644882917404175, 3.4028751850128174, 3.2192294597625732, 3.182725191116333, 3.1126766204833984, 19.882423400878906, 14.464505195617676, 8.655054092407227, 9.233437538146973, 6.1251115798950195, 5.689698219299316, 7.005269527435303, 5.194723606109619, 5.465657711029053, 5.269437313079834], \"Total\": [1015.0, 527.0, 689.0, 451.0, 590.0, 247.0, 352.0, 397.0, 324.0, 360.0, 338.0, 329.0, 254.0, 142.0, 147.0, 166.0, 216.0, 105.0, 671.0, 271.0, 184.0, 331.0, 137.0, 257.0, 208.0, 525.0, 213.0, 224.0, 155.0, 752.0, 451.443359375, 213.49269104003906, 167.66737365722656, 158.60525512695312, 150.23526000976562, 129.29519653320312, 118.06121063232422, 106.8158950805664, 104.39808654785156, 103.23667907714844, 100.09873962402344, 96.07090759277344, 94.85145568847656, 91.44062805175781, 85.64396667480469, 79.54627990722656, 77.27698516845703, 74.53498840332031, 67.97037506103516, 67.85762786865234, 65.29357147216797, 63.10660934448242, 61.0714225769043, 59.348876953125, 56.34538650512695, 56.237545013427734, 55.419612884521484, 53.26067352294922, 52.68564224243164, 51.63779830932617, 106.2770004272461, 360.7032165527344, 157.76686096191406, 157.49542236328125, 331.2938537597656, 106.85420989990234, 340.8804626464844, 671.6797485351562, 157.5592803955078, 129.63661193847656, 323.0885925292969, 190.28555297851562, 330.5135498046875, 360.3527526855469, 752.5361328125, 255.38851928710938, 302.2762145996094, 553.1593627929688, 276.4857482910156, 324.6856384277344, 352.6274719238281, 82.43853759765625, 69.14268493652344, 62.99368667602539, 56.899593353271484, 55.16069030761719, 51.75233840942383, 41.64817428588867, 50.362754821777344, 41.32173538208008, 40.032875061035156, 254.03929138183594, 37.4716796875, 37.42332077026367, 35.88158416748047, 33.054107666015625, 33.01646041870117, 31.010278701782227, 527.6019897460938, 29.543275833129883, 28.800697326660156, 71.53207397460938, 27.145536422729492, 26.126628875732422, 24.954195022583008, 24.907114028930664, 24.83338737487793, 24.27448844909668, 52.9433479309082, 271.1278381347656, 338.09722900390625, 184.57177734375, 61.281761169433594, 186.6017608642578, 329.9788513183594, 252.55410766601562, 85.85184478759766, 86.96305084228516, 85.41291809082031, 224.3359375, 689.0218505859375, 147.14303588867188, 297.5723571777344, 306.1776428222656, 89.82776641845703, 211.6186065673828, 142.6099090576172, 320.6889953613281, 257.7110900878906, 217.69142150878906, 123.81631469726562, 135.97860717773438, 590.4950561523438, 553.1593627929688, 752.5361328125, 397.44403076171875, 339.3388671875, 140.83407592773438, 222.75750732421875, 312.194580078125, 155.08177185058594, 149.13961791992188, 216.05616760253906, 81.19400024414062, 80.51337432861328, 65.24127960205078, 61.29973220825195, 57.706077575683594, 56.86091613769531, 50.52152633666992, 49.93381118774414, 49.53814697265625, 46.40647888183594, 45.50843811035156, 44.04026412963867, 41.74784851074219, 39.04252624511719, 35.571292877197266, 33.7433967590332, 32.070926666259766, 31.71609115600586, 31.47244644165039, 31.023941040039062, 30.526803970336914, 29.5979061126709, 29.425029754638672, 28.615142822265625, 28.328948974609375, 28.27403450012207, 28.064769744873047, 129.4168701171875, 50.404388427734375, 101.16848754882812, 221.81207275390625, 135.7753448486328, 152.95846557617188, 75.1877670288086, 67.58672332763672, 54.92012405395508, 42.97270965576172, 154.83297729492188, 199.48753356933594, 269.8675842285156, 237.33433532714844, 154.22802734375, 200.5362091064453, 208.44918823242188, 752.5361328125, 202.70852661132812, 102.75914001464844, 525.2791137695312, 200.83602905273438, 339.3388671875, 200.4362030029297, 193.4370574951172, 348.57135009765625, 330.5135498046875, 590.4950561523438, 255.67984008789062, 184.8973388671875, 203.63577270507812, 1015.9576416015625, 553.1593627929688, 345.4211730957031, 68.60338592529297, 61.26797866821289, 55.621803283691406, 42.030696868896484, 36.33717346191406, 31.653406143188477, 30.526620864868164, 28.78679847717285, 28.6019229888916, 27.980907440185547, 62.60344696044922, 24.63953399658203, 24.353713989257812, 23.39165496826172, 22.014753341674805, 21.858741760253906, 21.62279510498047, 19.742046356201172, 19.46196746826172, 18.04842185974121, 17.88105010986328, 17.00326919555664, 16.451513290405273, 16.371957778930664, 15.471538543701172, 15.152972221374512, 15.152369499206543, 15.053043365478516, 14.773548126220703, 14.784265518188477, 62.788841247558594, 247.98155212402344, 166.45631408691406, 1015.9576416015625, 45.48038864135742, 23.211410522460938, 84.42433166503906, 96.15575408935547, 32.13616943359375, 170.83944702148438, 123.29163360595703, 590.4950561523438, 142.82618713378906, 64.65187072753906, 257.7110900878906, 689.0218505859375, 208.44918823242188, 305.859130859375, 78.81339263916016, 165.5992431640625, 188.9263916015625, 525.2791137695312, 312.194580078125, 255.67984008789062, 166.1207275390625, 165.14553833007812, 184.8973388671875, 320.6889953613281, 345.4211730957031, 397.44403076171875, 360.3527526855469, 35.3427734375, 30.32971954345703, 28.004505157470703, 27.57542610168457, 25.581148147583008, 25.461790084838867, 24.92463493347168, 23.348941802978516, 22.637611389160156, 21.865638732910156, 21.2705020904541, 21.052017211914062, 20.754636764526367, 20.62737274169922, 20.461267471313477, 19.886857986450195, 19.773521423339844, 19.595537185668945, 19.495079040527344, 19.42388153076172, 19.116220474243164, 18.903654098510742, 18.740680694580078, 18.706859588623047, 18.47084617614746, 18.429943084716797, 17.907325744628906, 27.446338653564453, 17.10397720336914, 17.014617919921875, 51.823150634765625, 87.16949462890625, 137.6212158203125, 67.54412078857422, 23.78873634338379, 51.40565490722656, 58.66709899902344, 43.750823974609375, 54.49473190307617, 39.33254623413086, 78.78182220458984, 66.61296844482422, 27.230676651000977, 172.4359130859375, 553.1593627929688, 106.93411254882812, 115.63497161865234, 154.4762725830078, 525.2791137695312, 55.84120559692383, 312.194580078125, 86.30754852294922, 329.9788513183594, 302.2762145996094, 86.16919708251953, 671.6797485351562, 153.00271606445312, 66.05733489990234, 135.97860717773438, 123.29163360595703, 175.83477783203125, 204.10067749023438, 345.4211730957031, 154.83297729492188, 48.443397521972656, 25.147390365600586, 25.14828872680664, 20.27857208251953, 18.52882194519043, 18.465017318725586, 16.911619186401367, 13.944487571716309, 13.625812530517578, 13.579038619995117, 13.399044036865234, 13.34760856628418, 11.77566146850586, 11.396655082702637, 11.27530574798584, 10.21834945678711, 9.798888206481934, 9.33325481414795, 9.137288093566895, 9.041008949279785, 8.94202709197998, 8.8858060836792, 8.828857421875, 8.813776016235352, 8.733512878417969, 8.753290176391602, 8.726219177246094, 8.713244438171387, 8.640397071838379, 8.612934112548828, 15.500673294067383, 41.77891540527344, 33.08357620239258, 22.14665412902832, 25.722854614257812, 20.596776962280273, 60.17413330078125, 33.11183547973633, 20.78547477722168, 29.642148971557617, 397.44403076171875, 11.897486686706543, 95.90345764160156, 52.2040901184082, 50.641754150390625, 115.60163879394531, 115.75054168701172, 59.265052795410156, 689.0218505859375, 50.792903900146484, 28.9872989654541, 28.657604217529297, 26.82716941833496, 24.501386642456055, 19.47776222229004, 19.0921630859375, 18.696651458740234, 15.796738624572754, 13.253514289855957, 12.91857624053955, 12.296076774597168, 10.824620246887207, 10.809184074401855, 10.6400785446167, 10.633748054504395, 10.473686218261719, 10.268628120422363, 9.493152618408203, 9.164471626281738, 8.787609100341797, 8.669148445129395, 8.353597640991211, 8.312397956848145, 8.276927947998047, 7.914984703063965, 7.800100803375244, 7.51220178604126, 7.400356292724609, 7.196038722991943, 22.56955337524414, 105.15689849853516, 49.0999870300293, 18.46364402770996, 56.97660446166992, 142.82618713378906, 37.38759994506836, 147.14303588867188, 114.59697723388672, 50.6942138671875, 112.53099822998047, 48.72161865234375, 45.05823516845703, 37.41674041748047, 60.17413330078125, 49.34377670288086, 165.52659606933594, 58.16901779174805, 50.79702377319336, 55.088409423828125, 29.413150787353516, 15.243319511413574, 11.400737762451172, 10.281408309936523, 10.097578048706055, 10.027627944946289, 9.653803825378418, 9.444950103759766, 8.602502822875977, 8.552495002746582, 8.327705383300781, 7.473062992095947, 7.455131530761719, 7.455131530761719, 7.322299003601074, 7.328405857086182, 6.871161937713623, 6.809250354766846, 6.575957775115967, 6.275171756744385, 5.887384414672852, 5.956465721130371, 5.3032732009887695, 5.017477035522461, 4.909712791442871, 4.451913356781006, 4.2084269523620605, 4.024291515350342, 3.987474203109741, 3.9175589084625244, 27.711143493652344, 44.27415466308594, 29.840789794921875, 36.0876350402832, 16.941543579101562, 14.066617012023926, 31.441646575927734, 14.063383102416992, 26.856002807617188, 38.08522415161133], \"Category\": [\"Default\", \"Default\", \"Default\", \"Default\", \"Default\", \"Default\", \"Default\", \"Default\", \"Default\", \"Default\", \"Default\", \"Default\", \"Default\", \"Default\", \"Default\", \"Default\", \"Default\", \"Default\", \"Default\", \"Default\", \"Default\", \"Default\", \"Default\", \"Default\", \"Default\", \"Default\", \"Default\", \"Default\", \"Default\", \"Default\", \"Topic1\", \"Topic1\", \"Topic1\", \"Topic1\", \"Topic1\", \"Topic1\", \"Topic1\", \"Topic1\", \"Topic1\", \"Topic1\", \"Topic1\", \"Topic1\", \"Topic1\", \"Topic1\", \"Topic1\", \"Topic1\", \"Topic1\", \"Topic1\", \"Topic1\", \"Topic1\", \"Topic1\", \"Topic1\", \"Topic1\", \"Topic1\", \"Topic1\", \"Topic1\", \"Topic1\", \"Topic1\", \"Topic1\", \"Topic1\", \"Topic1\", \"Topic1\", \"Topic1\", \"Topic1\", \"Topic1\", \"Topic1\", \"Topic1\", \"Topic1\", \"Topic1\", \"Topic1\", \"Topic1\", \"Topic1\", \"Topic1\", \"Topic1\", \"Topic1\", \"Topic1\", \"Topic1\", \"Topic1\", \"Topic1\", \"Topic2\", \"Topic2\", \"Topic2\", \"Topic2\", \"Topic2\", \"Topic2\", \"Topic2\", \"Topic2\", \"Topic2\", \"Topic2\", \"Topic2\", \"Topic2\", \"Topic2\", \"Topic2\", \"Topic2\", \"Topic2\", \"Topic2\", \"Topic2\", \"Topic2\", \"Topic2\", \"Topic2\", \"Topic2\", \"Topic2\", \"Topic2\", \"Topic2\", \"Topic2\", \"Topic2\", \"Topic2\", \"Topic2\", \"Topic2\", \"Topic2\", \"Topic2\", \"Topic2\", \"Topic2\", \"Topic2\", \"Topic2\", \"Topic2\", \"Topic2\", \"Topic2\", \"Topic2\", \"Topic2\", \"Topic2\", \"Topic2\", \"Topic2\", \"Topic2\", \"Topic2\", \"Topic2\", \"Topic2\", \"Topic2\", \"Topic2\", \"Topic2\", \"Topic2\", \"Topic2\", \"Topic2\", \"Topic2\", \"Topic2\", \"Topic2\", \"Topic2\", \"Topic2\", \"Topic2\", \"Topic2\", \"Topic3\", \"Topic3\", \"Topic3\", \"Topic3\", \"Topic3\", \"Topic3\", \"Topic3\", \"Topic3\", \"Topic3\", \"Topic3\", \"Topic3\", \"Topic3\", \"Topic3\", \"Topic3\", \"Topic3\", \"Topic3\", \"Topic3\", \"Topic3\", \"Topic3\", \"Topic3\", \"Topic3\", \"Topic3\", \"Topic3\", \"Topic3\", \"Topic3\", \"Topic3\", \"Topic3\", \"Topic3\", \"Topic3\", \"Topic3\", \"Topic3\", \"Topic3\", \"Topic3\", \"Topic3\", \"Topic3\", \"Topic3\", \"Topic3\", \"Topic3\", \"Topic3\", \"Topic3\", \"Topic3\", \"Topic3\", \"Topic3\", \"Topic3\", \"Topic3\", \"Topic3\", \"Topic3\", \"Topic3\", \"Topic3\", \"Topic3\", \"Topic3\", \"Topic3\", \"Topic3\", \"Topic3\", \"Topic3\", \"Topic3\", \"Topic3\", \"Topic3\", \"Topic3\", \"Topic3\", \"Topic3\", \"Topic3\", \"Topic3\", \"Topic3\", \"Topic4\", \"Topic4\", \"Topic4\", \"Topic4\", \"Topic4\", \"Topic4\", \"Topic4\", \"Topic4\", \"Topic4\", \"Topic4\", \"Topic4\", \"Topic4\", \"Topic4\", \"Topic4\", \"Topic4\", \"Topic4\", \"Topic4\", \"Topic4\", \"Topic4\", \"Topic4\", \"Topic4\", \"Topic4\", \"Topic4\", \"Topic4\", \"Topic4\", \"Topic4\", \"Topic4\", \"Topic4\", \"Topic4\", \"Topic4\", \"Topic4\", \"Topic4\", \"Topic4\", \"Topic4\", \"Topic4\", \"Topic4\", \"Topic4\", \"Topic4\", \"Topic4\", \"Topic4\", \"Topic4\", \"Topic4\", \"Topic4\", \"Topic4\", \"Topic4\", \"Topic4\", \"Topic4\", \"Topic4\", \"Topic4\", \"Topic4\", \"Topic4\", \"Topic4\", \"Topic4\", \"Topic4\", \"Topic4\", \"Topic4\", \"Topic4\", \"Topic4\", \"Topic4\", \"Topic4\", \"Topic4\", \"Topic5\", \"Topic5\", \"Topic5\", \"Topic5\", \"Topic5\", \"Topic5\", \"Topic5\", \"Topic5\", \"Topic5\", \"Topic5\", \"Topic5\", \"Topic5\", \"Topic5\", \"Topic5\", \"Topic5\", \"Topic5\", \"Topic5\", \"Topic5\", \"Topic5\", \"Topic5\", \"Topic5\", \"Topic5\", \"Topic5\", \"Topic5\", \"Topic5\", \"Topic5\", \"Topic5\", \"Topic5\", \"Topic5\", \"Topic5\", \"Topic5\", \"Topic5\", \"Topic5\", \"Topic5\", \"Topic5\", \"Topic5\", \"Topic5\", \"Topic5\", \"Topic5\", \"Topic5\", \"Topic5\", \"Topic5\", \"Topic5\", \"Topic5\", \"Topic5\", \"Topic5\", \"Topic5\", \"Topic5\", \"Topic5\", \"Topic5\", \"Topic5\", \"Topic5\", \"Topic5\", \"Topic5\", \"Topic5\", \"Topic5\", \"Topic5\", \"Topic5\", \"Topic5\", \"Topic5\", \"Topic5\", \"Topic5\", \"Topic5\", \"Topic5\", \"Topic6\", \"Topic6\", \"Topic6\", \"Topic6\", \"Topic6\", \"Topic6\", \"Topic6\", \"Topic6\", \"Topic6\", \"Topic6\", \"Topic6\", \"Topic6\", \"Topic6\", \"Topic6\", \"Topic6\", \"Topic6\", \"Topic6\", \"Topic6\", \"Topic6\", \"Topic6\", \"Topic6\", \"Topic6\", \"Topic6\", \"Topic6\", \"Topic6\", \"Topic6\", \"Topic6\", \"Topic6\", \"Topic6\", \"Topic6\", \"Topic6\", \"Topic6\", \"Topic6\", \"Topic6\", \"Topic6\", \"Topic6\", \"Topic6\", \"Topic6\", \"Topic6\", \"Topic6\", \"Topic6\", \"Topic6\", \"Topic6\", \"Topic6\", \"Topic6\", \"Topic6\", \"Topic6\", \"Topic6\", \"Topic6\", \"Topic7\", \"Topic7\", \"Topic7\", \"Topic7\", \"Topic7\", \"Topic7\", \"Topic7\", \"Topic7\", \"Topic7\", \"Topic7\", \"Topic7\", \"Topic7\", \"Topic7\", \"Topic7\", \"Topic7\", \"Topic7\", \"Topic7\", \"Topic7\", \"Topic7\", \"Topic7\", \"Topic7\", \"Topic7\", \"Topic7\", \"Topic7\", \"Topic7\", \"Topic7\", \"Topic7\", \"Topic7\", \"Topic7\", \"Topic7\", \"Topic7\", \"Topic7\", \"Topic7\", \"Topic7\", \"Topic7\", \"Topic7\", \"Topic7\", \"Topic7\", \"Topic7\", \"Topic7\", \"Topic7\", \"Topic7\", \"Topic7\", \"Topic7\", \"Topic7\", \"Topic7\", \"Topic7\", \"Topic7\", \"Topic7\", \"Topic7\", \"Topic8\", \"Topic8\", \"Topic8\", \"Topic8\", \"Topic8\", \"Topic8\", \"Topic8\", \"Topic8\", \"Topic8\", \"Topic8\", \"Topic8\", \"Topic8\", \"Topic8\", \"Topic8\", \"Topic8\", \"Topic8\", \"Topic8\", \"Topic8\", \"Topic8\", \"Topic8\", \"Topic8\", \"Topic8\", \"Topic8\", \"Topic8\", \"Topic8\", \"Topic8\", \"Topic8\", \"Topic8\", \"Topic8\", \"Topic8\", \"Topic8\", \"Topic8\", \"Topic8\", \"Topic8\", \"Topic8\", \"Topic8\", \"Topic8\", \"Topic8\", \"Topic8\", \"Topic8\"], \"logprob\": [30.0, 29.0, 28.0, 27.0, 26.0, 25.0, 24.0, 23.0, 22.0, 21.0, 20.0, 19.0, 18.0, 17.0, 16.0, 15.0, 14.0, 13.0, 12.0, 11.0, 10.0, 9.0, 8.0, 7.0, 6.0, 5.0, 4.0, 3.0, 2.0, 1.0, -4.0040998458862305, -4.75439977645874, -4.997000217437744, -5.052800178527832, -5.1072998046875, -5.258200168609619, -5.349599838256836, -5.450399875640869, -5.473499774932861, -5.4847002029418945, -5.5157999992370605, -5.557199954986572, -5.570099830627441, -5.60699987411499, -5.673099994659424, -5.747600078582764, -5.776800155639648, -5.813300132751465, -5.906499862670898, -5.908199787139893, -5.947199821472168, -5.981599807739258, -6.014800071716309, -6.043799877166748, -6.096399784088135, -6.098299980163574, -6.1132001876831055, -6.153500080108643, -6.1645002365112305, -6.184899806976318, -5.4633002281188965, -4.258800029754639, -5.086400032043457, -5.100200176239014, -4.437300205230713, -5.504899978637695, -4.46150016784668, -3.89739990234375, -5.243000030517578, -5.523499965667725, -5.003399848937988, -5.3196001052856445, -5.032100200653076, -5.037499904632568, -4.722899913787842, -5.273900032043457, -5.2540998458862305, -5.220600128173828, -5.418300151824951, -4.116799831390381, -4.035299777984619, -5.488699913024902, -5.666299819946289, -5.760499954223633, -5.863500118255615, -5.894999980926514, -5.959700107574463, -6.1803998947143555, -5.990600109100342, -6.188399791717529, -6.220699787139893, -4.374100208282471, -6.288099765777588, -6.2895002365112305, -6.332399845123291, -6.416299819946289, -6.417399883270264, -6.4816999435424805, -3.648200035095215, -6.531300067901611, -6.558000087738037, -5.648600101470947, -6.618299961090088, -6.657599925994873, -6.704899787902832, -6.706999778747559, -6.710400104522705, -6.733399868011475, -5.9552001953125, -4.353899955749512, -4.142199993133545, -4.739799976348877, -5.820400238037109, -4.7677001953125, -4.264699935913086, -4.527500152587891, -5.534999847412109, -5.531000137329102, -5.551700115203857, -4.730000019073486, -3.7695999145507812, -5.1132001876831055, -4.519700050354004, -4.564799785614014, -5.5625, -4.91379976272583, -5.285099983215332, -4.7555999755859375, -4.904399871826172, -5.015500068664551, -5.406899929046631, -5.365699768066406, -4.553699970245361, -4.591000080108643, -4.429699897766113, -4.874599933624268, -5.046500205993652, -5.421899795532227, -5.336299896240234, -5.3024001121521, -4.780200004577637, -4.819499969482422, -4.4517998695373535, -5.43179988861084, -5.440299987792969, -5.6528000831604, -5.71589994430542, -5.777100086212158, -5.791999816894531, -5.911900043487549, -5.923799991607666, -5.9319000244140625, -5.998199939727783, -6.018099784851074, -6.051400184631348, -6.105800151824951, -6.174099922180176, -6.269100189208984, -6.322999954223633, -6.375100135803223, -6.386499881744385, -6.394400119781494, -6.40910005569458, -6.425600051879883, -6.457300186157227, -6.463399887084961, -6.492000102996826, -6.502299785614014, -6.504300117492676, -6.511899948120117, -5.029300212860107, -5.9492998123168945, -5.328199863433838, -4.629000186920166, -5.127299785614014, -5.024899959564209, -5.648499965667725, -5.740799903869629, -5.927700042724609, -6.135499954223633, -5.088399887084961, -4.958899974822998, -4.773600101470947, -4.86929988861084, -5.196800231933594, -5.035099983215332, -5.019199848175049, -4.173399925231934, -5.067500114440918, -5.507800102233887, -4.545100212097168, -5.120999813079834, -4.834199905395508, -5.131899833679199, -5.153200149536133, -4.904099941253662, -4.995299816131592, -4.757199764251709, -5.150700092315674, -5.279600143432617, -5.30019998550415, -4.897799968719482, -5.1554999351501465, -5.224699974060059, -4.903900146484375, -5.018400192260742, -5.116300106048584, -5.401000022888184, -5.549499988555908, -5.691100120544434, -5.72790002822876, -5.788099765777588, -5.7947001457214355, -5.817299842834473, -5.012400150299072, -5.948299884796143, -5.960299968719482, -6.001999855041504, -6.064799785614014, -6.072199821472168, -6.083499908447266, -6.1778998374938965, -6.192800045013428, -6.271399974822998, -6.281099796295166, -6.333799839019775, -6.3684000968933105, -6.3734002113342285, -6.4328999519348145, -6.454800128936768, -6.454899787902832, -6.4618000984191895, -6.481500148773193, -6.480800151824951, -5.03980016708374, -3.6910998821258545, -4.1066999435424805, -2.3433001041412354, -5.486599922180176, -6.081999778747559, -4.98330020904541, -4.873799800872803, -5.811200141906738, -4.512400150299072, -4.793000221252441, -3.7249999046325684, -4.848100185394287, -5.405200004577637, -4.50629997253418, -3.910799980163574, -4.667500019073486, -4.496799945831299, -5.291800022125244, -4.9054999351501465, -4.836400032043457, -4.313600063323975, -4.617700099945068, -4.739200115203857, -4.946599960327148, -4.951600074768066, -4.996399879455566, -4.909999847412109, -4.950500011444092, -4.915299892425537, -5.13670015335083, -5.4166998863220215, -5.569900035858154, -5.651800155639648, -5.667600154876709, -5.744900226593018, -5.74970006942749, -5.771699905395508, -5.839099884033203, -5.871200084686279, -5.907199859619141, -5.935699939727783, -5.946400165557861, -5.96120023727417, -5.967599868774414, -5.975900173187256, -6.00570011138916, -6.011499881744385, -6.020899772644043, -6.026199817657471, -6.03000020980835, -6.0467000007629395, -6.0584001541137695, -6.067299842834473, -6.069300174713135, -6.082399845123291, -6.084799766540527, -6.114799976348877, -5.6880998611450195, -6.162799835205078, -6.1682000160217285, -5.1149001121521, -4.673600196838379, -4.2631001472473145, -4.956099987030029, -5.875500202178955, -5.26170015335083, -5.205599784851074, -5.437900066375732, -5.299300193786621, -5.563399791717529, -5.242800235748291, -5.3470001220703125, -5.841000080108643, -4.874899864196777, -4.403900146484375, -5.192999839782715, -5.185800075531006, -5.067500114440918, -4.709400177001953, -5.568699836730957, -5.018499851226807, -5.458099842071533, -5.033299922943115, -5.13070011138916, -5.5065999031066895, -5.114500045776367, -5.401500225067139, -5.576000213623047, -5.4918999671936035, -5.515200138092041, -5.497200012207031, -5.4878997802734375, -5.459400177001953, -5.518599987030029, -4.0802998542785645, -4.750999927520752, -4.751100063323975, -4.973800182342529, -5.06790018081665, -5.071499824523926, -5.163300037384033, -5.366600036621094, -5.39109992980957, -5.394599914550781, -5.408699989318848, -5.412799835205078, -5.546500205993652, -5.5817999839782715, -5.592899799346924, -5.699100017547607, -5.744500160217285, -5.797500133514404, -5.820499897003174, -5.832300186157227, -5.844099998474121, -5.85129976272583, -5.858099937438965, -5.859899997711182, -5.869999885559082, -5.8678998947143555, -5.871099948883057, -5.872600078582764, -5.881899833679199, -5.885300159454346, -5.366099834442139, -4.593699932098389, -4.848800182342529, -5.236499786376953, -5.1971001625061035, -5.3445000648498535, -4.718200206756592, -5.102799892425537, -5.3719000816345215, -5.176700115203857, -3.974400043487549, -5.6971001625061035, -4.812399864196777, -5.221799850463867, -5.231800079345703, -5.079400062561035, -5.101900100708008, -5.353700160980225, -5.1508002281188965, -3.8756000995635986, -4.448299884796143, -4.46019983291626, -4.527900218963623, -4.621399879455566, -4.859300136566162, -4.880199909210205, -4.9019999504089355, -5.078499794006348, -5.263999938964844, -5.291299819946289, -5.343900203704834, -5.480500221252441, -5.482100009918213, -5.499000072479248, -5.500199794769287, -5.515999794006348, -5.537399768829346, -5.622700214385986, -5.660999774932861, -5.707399845123291, -5.7220001220703125, -5.762800216674805, -5.7683000564575195, -5.773200035095215, -5.822500228881836, -5.838600158691406, -5.8805999755859375, -5.897299766540527, -5.928500175476074, -4.974599838256836, -3.7232000827789307, -4.547699928283691, -5.242199897766113, -4.466599941253662, -3.91729998588562, -4.925899982452393, -4.470900058746338, -4.595900058746338, -4.983699798583984, -4.7571001052856445, -5.0883002281188965, -5.156499862670898, -5.247300148010254, -5.164599895477295, -5.214399814605713, -5.004499912261963, -5.20419979095459, -5.22629976272583, -5.2881999015808105, -3.6205999851226807, -4.3043999671936035, -4.614099979400635, -4.725500106811523, -4.7453999519348145, -4.752500057220459, -4.7941999435424805, -4.81790018081665, -4.920599937438965, -4.926799774169922, -4.956299781799316, -5.0767998695373535, -5.079599857330322, -5.079599857330322, -5.099699974060059, -5.099599838256836, -5.171599864959717, -5.1819000244140625, -5.22130012512207, -5.275000095367432, -5.348299980163574, -5.339799880981445, -5.470600128173828, -5.536499977111816, -5.562300205230713, -5.681000232696533, -5.74970006942749, -5.805200099945068, -5.8165998458862305, -5.838799953460693, -3.984499931335449, -4.302599906921387, -4.816199779510498, -4.751500129699707, -5.161900043487549, -5.235599994659424, -5.027599811553955, -5.326700210571289, -5.2758002281188965, -5.312399864196777], \"loglift\": [30.0, 29.0, 28.0, 27.0, 26.0, 25.0, 24.0, 23.0, 22.0, 21.0, 20.0, 19.0, 18.0, 17.0, 16.0, 15.0, 14.0, 13.0, 12.0, 11.0, 10.0, 9.0, 8.0, 7.0, 6.0, 5.0, 4.0, 3.0, 2.0, 1.0, 1.2461999654769897, 1.2446999549865723, 1.2438000440597534, 1.243499994277954, 1.2431999444961548, 1.242400050163269, 1.2418999671936035, 1.2411999702453613, 1.2410000562667847, 1.2409000396728516, 1.2407000064849854, 1.240399956703186, 1.2403000593185425, 1.2400000095367432, 1.239400029182434, 1.238700032234192, 1.2384999990463257, 1.2381000518798828, 1.2371000051498413, 1.2371000051498413, 1.2366000413894653, 1.236299991607666, 1.2359000444412231, 1.2354999780654907, 1.2347999811172485, 1.2347999811172485, 1.2345999479293823, 1.2339999675750732, 1.2338999509811401, 1.2336000204086304, 1.2333999872207642, 1.21589994430542, 1.2151999473571777, 1.2030999660491943, 1.1224000453948975, 1.186400055885315, 1.069599986076355, 0.9555000066757202, 1.0599000453948975, 0.9745000004768372, 0.5813999772071838, 0.7944999933242798, 0.5299999713897705, 0.43810001015663147, 0.016300000250339508, 0.5460000038146973, 0.39730000495910645, -0.17350000143051147, 0.3222000002861023, 1.4630000591278076, 1.4620000123977661, 1.4620000123977661, 1.4601999521255493, 1.4592000246047974, 1.457900047302246, 1.4574999809265137, 1.4565999507904053, 1.4529999494552612, 1.4529000520706177, 1.4529000520706177, 1.452299952507019, 1.4510999917984009, 1.4509999752044678, 1.4508999586105347, 1.4500999450683594, 1.4483000040054321, 1.4483000040054321, 1.4466999769210815, 1.4460999965667725, 1.4455000162124634, 1.4443000555038452, 1.4438999891281128, 1.4431999921798706, 1.442199945449829, 1.4407000541687012, 1.440600037574768, 1.4400999546051025, 1.4399000406265259, 1.4381999969482422, 1.4062000513076782, 1.3971999883651733, 1.4048999547958374, 1.426900029182434, 1.3660000562667847, 1.2990000247955322, 1.3035999536514282, 1.375100016593933, 1.3662999868392944, 1.3634999990463257, 1.219499945640564, 1.057800054550171, 1.2581000328063965, 1.1473000049591064, 1.073699951171875, 1.302299976348877, 1.094099998474121, 1.1174999475479126, 0.8367000222206116, 0.906499981880188, 0.9641000032424927, 1.1369999647140503, 1.0844999551773071, 0.42809998989105225, 0.4560000002384186, 0.30959999561309814, 0.5030999779701233, 0.48919999599456787, 0.9932000041007996, 0.6202999949455261, 0.3167000114917755, 1.5384999513626099, 1.5383000373840332, 1.5353000164031982, 1.53410005569458, 1.534000039100647, 1.5318000316619873, 1.531000018119812, 1.5303000211715698, 1.5300999879837036, 1.52839994430542, 1.5282000303268433, 1.5281000137329102, 1.5270999670028687, 1.5267000198364258, 1.5262000560760498, 1.5252000093460083, 1.5240000486373901, 1.5220999717712402, 1.520900011062622, 1.519700050354004, 1.5194000005722046, 1.5191999673843384, 1.5189000368118286, 1.5184999704360962, 1.517699956893921, 1.5175000429153442, 1.516800045967102, 1.5164999961853027, 1.5164999961853027, 1.5161999464035034, 1.4702999591827393, 1.493299961090088, 1.4177000522613525, 1.3319000005722046, 1.3243999481201172, 1.3076000213623047, 1.3941999673843384, 1.408400058746338, 1.4291000366210938, 1.466599941253662, 1.2319999933242798, 1.1080000400543213, 0.9911999702453613, 1.0240000486373901, 1.1274000406265259, 1.0266000032424927, 1.0038000345230103, 0.5658000111579895, 0.9835000038146973, 1.222499966621399, 0.5536999702453613, 0.9391999840736389, 0.7014999985694885, 0.9302999973297119, 0.9445000290870667, 0.6047999858856201, 0.5667999982833862, 0.22460000216960907, 0.6680999994277954, 0.8633000254631042, 0.7462000250816345, -0.4587000012397766, -0.10840000212192535, 0.29319998621940613, 2.2304000854492188, 2.229099988937378, 2.227799892425537, 2.223299980163574, 2.2202999591827393, 2.2167000770568848, 2.216200113296509, 2.2146999835968018, 2.2144999504089355, 2.213900089263916, 2.2135000228881836, 2.210099935531616, 2.209700107574463, 2.2083001136779785, 2.206199884414673, 2.205899953842163, 2.2054998874664307, 2.2019999027252197, 2.2014999389648438, 2.198199987411499, 2.1979000568389893, 2.195499897003174, 2.1939001083374023, 2.193700075149536, 2.1907999515533447, 2.18969988822937, 2.18969988822937, 2.1893999576568604, 2.1884000301361084, 2.1882998943328857, 2.1830999851226807, 2.1582000255584717, 2.1412999629974365, 2.095900058746338, 2.058799982070923, 2.1361000537872314, 1.94350004196167, 1.9228999614715576, 2.0815000534057617, 1.7095999717712402, 1.7552000284194946, 1.256700038909912, 1.552899956703186, 1.7884999513626099, 1.3044999837875366, 0.9165999889373779, 1.3554999828338623, 1.142799973487854, 1.7038999795913696, 1.3476999998092651, 1.2848999500274658, 0.7851999998092651, 1.0013999938964844, 1.0794999599456787, 1.3033000230789185, 1.3042999505996704, 1.1464999914169312, 0.682200014591217, 0.5673999786376953, 0.46239998936653137, 0.33889999985694885, 2.38100004196167, 2.38070011138916, 2.378499984741211, 2.3780999183654785, 2.3759000301361084, 2.3757998943328857, 2.3750998973846436, 2.372999906539917, 2.3719000816345215, 2.3705999851226807, 2.3696999549865723, 2.36929988861084, 2.368799924850464, 2.368499994277954, 2.3682000637054443, 2.3668999671936035, 2.3668999671936035, 2.366499900817871, 2.366300106048584, 2.3661999702453613, 2.365499973297119, 2.365000009536743, 2.3647000789642334, 2.364500045776367, 2.3640999794006348, 2.364000082015991, 2.3626999855041504, 2.3624000549316406, 2.360599994659424, 2.3603999614715576, 2.299999952316284, 2.221299886703491, 2.175100088119507, 2.1939001083374023, 2.318000078201294, 2.16129994392395, 2.085200071334839, 2.1463000774383545, 2.0652999877929688, 2.1273000240325928, 1.7532000541687012, 1.8167999982833862, 2.217400074005127, 1.3377000093460083, 0.6431000232696533, 1.497499942779541, 1.4263999462127686, 1.2552000284194946, 0.38940000534057617, 1.7714999914169312, 0.600600004196167, 1.4466999769210815, 0.5303999781608582, 0.5206999778747559, 1.3997999429702759, -0.26159998774528503, 0.9307000041007996, 1.5961999893188477, 0.958299994468689, 1.0329999923706055, 0.6959999799728394, 0.5562000274658203, 0.05849999934434891, 0.8016999959945679, 3.4019999504089355, 3.386899948120117, 3.3868000507354736, 3.379300117492676, 3.375499963760376, 3.3752999305725098, 3.3714001178741455, 3.3610000610351562, 3.359600067138672, 3.359499931335449, 3.358799934387207, 3.358599901199341, 3.350100040435791, 3.3475000858306885, 3.3471999168395996, 3.339400053024292, 3.335900068283081, 3.3315999507904053, 3.3297998905181885, 3.3285999298095703, 3.327899932861328, 3.326900005340576, 3.3266000747680664, 3.3264999389648438, 3.325500011444092, 3.3254001140594482, 3.3252999782562256, 3.325200080871582, 3.3243000507354736, 3.324199914932251, 3.25570011138916, 3.0367000102996826, 3.014899969100952, 3.0285000801086426, 2.9182000160217285, 2.9930999279022217, 2.5471999645233154, 2.759999990463257, 2.9565000534057617, 2.796799898147583, 1.4032000303268433, 3.189199924468994, 1.9869999885559082, 2.185699939727783, 2.206199884414673, 1.5332000255584717, 1.5092999935150146, 1.9270000457763672, -0.32339999079704285, 3.559299945831299, 3.547499895095825, 3.547100067138672, 3.5453999042510986, 3.5425000190734863, 3.53410005569458, 3.5332000255584717, 3.532399892807007, 3.524399995803833, 3.514400005340576, 3.5127999782562256, 3.5095999240875244, 3.5004000663757324, 3.500200033187866, 3.499000072479248, 3.498500108718872, 3.4979000091552734, 3.4962000846862793, 3.4893999099731445, 3.486299991607666, 3.4818999767303467, 3.4809999465942383, 3.4772000312805176, 3.4767000675201416, 3.476099967956543, 3.4714999198913574, 3.4700000286102295, 3.46560001373291, 3.463900089263916, 3.460700035095215, 3.2715001106262207, 2.984100103378296, 2.9212000370025635, 3.204699993133545, 2.8534998893737793, 2.483799934387207, 2.815500020980835, 1.9004000425338745, 2.025399923324585, 2.453200101852417, 1.8824000358581543, 2.3882999420166016, 2.3982999324798584, 2.493299961090088, 2.100800037384033, 2.249500036239624, 1.2490999698638916, 2.0952000617980957, 2.2086000442504883, 2.065500020980835, 4.3607001304626465, 4.334199905395508, 4.314899921417236, 4.3069000244140625, 4.305099964141846, 4.304900169372559, 4.301199913024902, 4.299300193786621, 4.29010009765625, 4.289599895477295, 4.286799907684326, 4.274600028991699, 4.274199962615967, 4.274199962615967, 4.27209997177124, 4.271399974822998, 4.263700008392334, 4.262499809265137, 4.257999897003174, 4.251100063323975, 4.241600036621094, 4.238399982452393, 4.223800182342529, 4.213200092315674, 4.209199905395508, 4.188399791717529, 4.175899982452393, 4.165200233459473, 4.163000106811523, 4.158400058746338, 4.056399822235107, 3.269700050354004, 3.150700092315674, 3.0253000259399414, 3.371000051498413, 3.483299970626831, 2.886899948120117, 3.3924999237060547, 2.7964000701904297, 2.4105000495910645]}, \"token.table\": {\"Topic\": [1, 3, 7, 1, 2, 3, 4, 5, 3, 2, 3, 1, 1, 5, 4, 4, 3, 5, 7, 4, 5, 7, 6, 7, 3, 1, 2, 3, 4, 6, 1, 2, 3, 4, 5, 6, 6, 1, 1, 3, 7, 6, 5, 6, 5, 7, 3, 7, 1, 3, 1, 4, 5, 3, 1, 2, 3, 4, 5, 7, 8, 1, 2, 3, 5, 6, 1, 2, 3, 5, 4, 1, 8, 7, 5, 4, 1, 4, 7, 5, 2, 3, 4, 5, 6, 7, 1, 2, 3, 4, 5, 3, 1, 3, 1, 3, 5, 8, 3, 5, 7, 8, 5, 2, 6, 6, 6, 3, 4, 4, 1, 6, 4, 1, 2, 3, 4, 5, 1, 4, 2, 3, 4, 3, 5, 7, 1, 2, 3, 4, 5, 6, 8, 1, 2, 4, 5, 7, 7, 2, 2, 3, 4, 5, 7, 2, 8, 1, 5, 2, 4, 2, 6, 2, 3, 4, 6, 7, 8, 6, 3, 1, 5, 2, 1, 3, 6, 1, 2, 3, 4, 6, 2, 3, 4, 5, 6, 7, 1, 2, 4, 8, 2, 5, 6, 8, 8, 2, 7, 1, 3, 5, 3, 1, 2, 3, 4, 4, 2, 3, 4, 3, 4, 1, 2, 3, 5, 3, 4, 7, 1, 2, 3, 4, 5, 6, 4, 2, 3, 4, 7, 5, 1, 6, 2, 1, 6, 8, 7, 1, 2, 8, 2, 7, 1, 5, 8, 4, 6, 2, 7, 1, 2, 3, 4, 5, 2, 6, 6, 6, 5, 6, 1, 5, 2, 4, 5, 5, 6, 2, 1, 1, 4, 5, 8, 3, 4, 3, 6, 6, 2, 5, 1, 2, 3, 4, 5, 8, 1, 3, 1, 1, 1, 1, 2, 3, 6, 6, 2, 2, 3, 4, 1, 3, 4, 5, 7, 1, 2, 7, 8, 5, 1, 2, 3, 4, 5, 7, 4, 5, 7, 8, 2, 3, 4, 4, 4, 4, 1, 7, 1, 5, 4, 1, 3, 4, 5, 7, 8, 3, 1, 2, 3, 6, 7, 2, 2, 6, 1, 2, 3, 4, 5, 1, 2, 3, 4, 5, 2, 1, 8, 3, 1, 2, 5, 1, 2, 3, 4, 5, 1, 2, 3, 4, 5, 1, 2, 7, 6, 1, 2, 3, 4, 5, 4, 8, 1, 5, 2, 2, 7, 5, 3, 6, 2, 7, 3, 5, 3, 4, 1, 2, 3, 5, 7, 1, 2, 3, 4, 5, 3, 2, 3, 4, 1, 6, 5, 1, 2, 3, 4, 5, 7, 8, 4, 8, 2, 5, 3, 5, 8, 4, 4, 6, 6, 1, 2, 3, 4, 5, 6, 3, 5, 6, 7, 4, 2, 7, 1, 1, 2, 3, 4, 1, 1, 2, 3, 6, 4, 5, 7, 1, 2, 3, 6, 4, 5, 8, 2, 1, 2, 4, 7, 1, 6, 7, 1, 6, 3, 4, 5, 6, 1, 5, 1, 2, 5, 3, 1, 2, 3, 4, 5, 6, 4, 1, 2, 3, 4, 5, 2, 4, 5, 6, 7, 4, 7, 4, 5, 5, 1, 2, 3, 4, 5, 8, 1, 2, 3, 6, 2, 3, 6, 3, 5, 7, 5, 1, 7, 8, 3, 4, 1, 4, 5, 6, 2, 8, 7, 3, 1, 3, 4, 2, 8, 2, 1, 8, 1, 2, 5, 6, 7, 1, 3, 5, 2, 5, 8, 1, 2, 3, 4, 5, 5, 2, 3, 6, 7, 3, 3, 6, 4, 5, 7, 5, 1, 1, 2, 3, 5, 6, 7, 2, 7, 2, 3, 8, 7, 7, 2, 5, 3, 1, 2, 3, 4, 5, 6, 4, 1, 3, 1, 2, 3, 4, 5, 7, 2, 7, 4, 6, 1, 5, 7, 1, 3, 4, 5, 6, 1, 1, 2, 3, 4, 5, 1, 5, 6, 3, 1, 3, 4, 5, 1, 1, 6, 1, 3, 4, 5, 8, 1, 2, 3, 5, 7, 8, 1, 2, 3, 4, 5, 4, 1, 3, 4, 1, 3, 1, 3, 4, 5, 2, 3, 4, 5, 6, 7, 8, 8, 5, 3, 5, 2, 6, 3, 1, 3, 1, 4, 5, 6, 7, 5, 1, 2, 7, 3, 7, 1, 4, 5, 4, 1, 2, 3, 4, 5, 5, 2, 6, 1, 7, 2, 8, 8, 2, 7, 1, 5, 6, 5, 1, 3, 4, 2, 3, 5, 6, 3, 7, 1, 2, 3, 1, 8, 1, 1, 2, 1, 2, 3, 4, 5, 5, 7, 1, 2, 3, 5, 6, 1, 2, 3, 5, 7, 3, 7, 8, 3, 5, 3, 4, 5, 7, 7, 1, 2, 3, 8, 1, 3, 6, 3, 6, 3, 4, 3, 2, 3, 4, 5, 5, 6, 5, 2, 5, 7, 3, 2, 1, 8, 7, 8, 7, 1, 2, 3, 5, 6, 3, 2, 3, 6, 3, 4, 5, 6, 1, 2, 5, 6, 4, 8, 3, 1, 3, 5, 1, 2, 3, 5, 6, 6, 4, 1, 4, 5, 7], \"Freq\": [0.5746935606002808, 0.102623850107193, 0.307871550321579, 0.14217892289161682, 0.32416796684265137, 0.2502349019050598, 0.09668166935443878, 0.18198902904987335, 0.9812990427017212, 0.06981174647808075, 0.9308233261108398, 0.9961838722229004, 0.9924808740615845, 0.9695854187011719, 0.9912047386169434, 0.9888208508491516, 0.053493671119213104, 0.4546962082386017, 0.4546962082386017, 0.504109263420105, 0.16103489696979523, 0.3360728323459625, 0.9540715217590332, 0.9576712250709534, 0.973297655582428, 0.5137909650802612, 0.22594422101974487, 0.22594422101974487, 0.03095126338303089, 0.9543392658233643, 0.39785051345825195, 0.22785983979701996, 0.18807479739189148, 0.1663738489151001, 0.010850468650460243, 0.010850468650460243, 0.9748163223266602, 0.995503842830658, 0.27248185873031616, 0.7298620939254761, 0.9627392292022705, 0.9702184796333313, 0.8142825365066528, 0.17766165733337402, 0.27080243825912476, 0.7040863633155823, 0.9827429056167603, 0.8974242806434631, 0.09104131162166595, 0.8922048211097717, 0.22020477056503296, 0.05505119264125824, 0.7156655192375183, 0.9774218201637268, 0.16674844920635223, 0.08893250674009323, 0.5743557810783386, 0.16304291784763336, 0.0037055211141705513, 0.9480517506599426, 0.9124146103858948, 0.19154894351959229, 0.3742571473121643, 0.4302483797073364, 0.0029469067230820656, 0.9061195254325867, 0.9857235550880432, 0.3133370280265808, 0.3133370280265808, 0.3713623881340027, 0.9239479303359985, 0.9917778372764587, 0.9299619197845459, 0.9659402966499329, 0.9403678774833679, 0.9476396441459656, 0.06658050417900085, 0.5992245078086853, 0.31070902943611145, 0.9781773090362549, 0.6618077754974365, 0.04499131813645363, 0.26559388637542725, 0.0014513328205794096, 0.023221325129270554, 0.0014513328205794096, 0.497281551361084, 0.19186453521251678, 0.12138368934392929, 0.1018056720495224, 0.09005886316299438, 0.9848592877388, 0.881392776966095, 0.11772026121616364, 0.021798964589834213, 0.1816580444574356, 0.7920290231704712, 0.8732147812843323, 0.980974018573761, 0.7781245112419128, 0.21398423612117767, 0.8753664493560791, 0.9850553274154663, 0.9085419178009033, 0.08153581619262695, 0.9862627387046814, 0.8946517109870911, 0.5852745175361633, 0.4125705659389496, 0.9539057612419128, 0.4385646879673004, 0.5397719144821167, 0.9754775166511536, 0.12703360617160797, 0.32287707924842834, 0.05822373554110527, 0.38639387488365173, 0.10586133599281311, 0.993870198726654, 0.982748806476593, 0.07733727991580963, 0.27841421961784363, 0.6341657042503357, 0.6353423595428467, 0.12706847488880157, 0.21783167123794556, 0.0845414474606514, 0.24154700338840485, 0.2294696420431137, 0.41062989830970764, 0.03623205050826073, 0.9322680234909058, 0.7128554582595825, 0.019019199535250664, 0.36136478185653687, 0.02852879837155342, 0.03803839907050133, 0.5515567660331726, 0.8764559030532837, 0.9754307270050049, 0.6851949691772461, 0.18901929259300232, 0.061431270092725754, 0.05198030546307564, 0.009450964629650116, 0.9816108345985413, 0.8811542391777039, 0.9587579965591431, 0.0380963459610939, 0.9922139048576355, 0.9956261515617371, 0.9801633358001709, 0.01574559509754181, 0.35224682092666626, 0.2675721049308777, 0.3742622435092926, 0.0016934942686930299, 0.0033869885373860598, 0.9184350967407227, 0.990847110748291, 0.9888275861740112, 0.04203670099377632, 0.9248074293136597, 0.9681096076965332, 0.07397902756929398, 0.8729525208473206, 0.044387415051460266, 0.08554663509130478, 0.37992769479751587, 0.23147913813591003, 0.1685771942138672, 0.1333521157503128, 0.5704061985015869, 0.01940157078206539, 0.39191174507141113, 0.0038803142961114645, 0.01164094265550375, 0.0038803142961114645, 0.00891520082950592, 0.7756224870681763, 0.2139648199081421, 0.7523559927940369, 0.6321343779563904, 0.07662235200405121, 0.28733381628990173, 0.8147116303443909, 0.9322749972343445, 0.9741993546485901, 0.9238199591636658, 0.061815742403268814, 0.9272361397743225, 0.007726967800408602, 0.9923587441444397, 0.14461228251457214, 0.25431814789772034, 0.5983956456184387, 0.004986630752682686, 0.9740443825721741, 0.06919150799512863, 0.8797205686569214, 0.049422502517700195, 0.9852944612503052, 0.9907209873199463, 0.28940045833587646, 0.601769208908081, 0.01378097478300333, 0.0918731689453125, 0.12447034567594528, 0.8401747941970825, 0.931817352771759, 0.08648452162742615, 0.31390678882598877, 0.13453148305416107, 0.28828173875808716, 0.1633596569299698, 0.009609391912817955, 0.9725549221038818, 0.15684379637241364, 0.5083902478218079, 0.33532121777534485, 0.939842700958252, 0.9696085453033447, 0.16810272634029388, 0.7564622759819031, 0.9617621302604675, 0.9910233020782471, 0.9651954770088196, 0.9389505982398987, 0.9691667556762695, 0.1447214037179947, 0.8460635542869568, 0.9353995323181152, 0.9674211740493774, 0.9459003806114197, 0.9924284219741821, 0.5687223672866821, 0.4265417754650116, 0.9793574810028076, 0.9003122448921204, 0.9897130131721497, 0.0085075618699193, 0.9890234470367432, 0.2876289188861847, 0.151383638381958, 0.10596854984760284, 0.4390125572681427, 0.9917284846305847, 0.006159804295748472, 0.9543733596801758, 0.9288356304168701, 0.9069305658340454, 0.09648197889328003, 0.9869861602783203, 0.9772821664810181, 0.1271211951971054, 0.10169695317745209, 0.7627271413803101, 0.34988340735435486, 0.6220149397850037, 0.9844369292259216, 0.9928222894668579, 0.9923616647720337, 0.9409955143928528, 0.7633187770843506, 0.22263464331626892, 0.015973560512065887, 0.9743872284889221, 0.3022647798061371, 0.6649824976921082, 0.9714595079421997, 0.9578002095222473, 0.9774565696716309, 0.12219049781560898, 0.08848277479410172, 0.5940986275672913, 0.18539246916770935, 0.008426930755376816, 0.952890157699585, 0.9879842400550842, 0.009409373626112938, 0.9824562072753906, 0.991011381149292, 0.9779943227767944, 0.2591780424118042, 0.5183560848236084, 0.07775341719388962, 0.1468675583600998, 0.9139420390129089, 0.9842256307601929, 0.1998237520456314, 0.40570276975631714, 0.3935922384262085, 0.046827591955661774, 0.21072416007518768, 0.5853449106216431, 0.11121553182601929, 0.04097414389252663, 0.018888114020228386, 0.9632938504219055, 0.9795364141464233, 0.7542511820793152, 0.9622138738632202, 0.26344650983810425, 0.1563308984041214, 0.28660663962364197, 0.18817608058452606, 0.09553554654121399, 0.00868504960089922, 0.5118409991264343, 0.2165481150150299, 0.25592049956321716, 0.7454728484153748, 0.2368985265493393, 0.01184492651373148, 0.7462303638458252, 0.9772807955741882, 0.9854759573936462, 0.9624128937721252, 0.9960196614265442, 0.8729363083839417, 0.9675544500350952, 0.030495984479784966, 0.9507271647453308, 0.48712071776390076, 0.3751737177371979, 0.060511890798807144, 0.060511890798807144, 0.012102378532290459, 0.9389505982398987, 0.9877642393112183, 0.1308934986591339, 0.5497527122497559, 0.06108363717794418, 0.03490493446588516, 0.20942960679531097, 0.9946804046630859, 0.956878125667572, 0.8755332827568054, 0.31386998295783997, 0.09808436781167984, 0.17982134222984314, 0.3334868550300598, 0.07846749573945999, 0.05389497056603432, 0.3919634222984314, 0.17148399353027344, 0.22047942876815796, 0.15678536891937256, 0.9886882901191711, 0.7204684019088745, 0.24939289689064026, 0.9666075706481934, 0.0808950811624527, 0.6765770316123962, 0.23533113300800323, 0.399537593126297, 0.4264727234840393, 0.008978373371064663, 0.13467559218406677, 0.026935119181871414, 0.24043704569339752, 0.3615594506263733, 0.19162651896476746, 0.032540351152420044, 0.17174074053764343, 0.032636139541864395, 0.9627660512924194, 0.9759210348129272, 0.9341301321983337, 0.006537722423672676, 0.1765184998512268, 0.791064441204071, 0.019613167271018028, 0.006537722423672676, 0.6702235341072083, 0.3016006052494049, 0.9888529181480408, 0.9354549646377563, 0.9886922836303711, 0.8087368607521057, 0.19029103219509125, 0.9608809351921082, 0.9849885702133179, 0.9258833527565002, 0.9015029668807983, 0.09366264939308167, 0.966995120048523, 0.9493321180343628, 0.27039462327957153, 0.7279855608940125, 0.1830032914876938, 0.43790072202682495, 0.15032413601875305, 0.22875410318374634, 0.910372793674469, 0.07539033144712448, 0.1333828866481781, 0.16817842423915863, 0.27836430072784424, 0.3421561121940613, 0.9797990322113037, 0.26595762372016907, 0.4184921383857727, 0.31289130449295044, 0.2709212899208069, 0.6773031949996948, 0.9818633794784546, 0.12082650512456894, 0.10874385386705399, 0.5135126709938049, 0.048330601304769516, 0.10874385386705399, 0.09666120260953903, 0.8492735624313354, 0.9789551496505737, 0.8394239544868469, 0.9664408564567566, 0.9745087027549744, 0.09034616500139236, 0.5646635293960571, 0.3162115812301636, 0.9726680517196655, 0.9695221781730652, 0.9167773127555847, 0.9460951089859009, 0.4267619848251343, 0.23819273710250854, 0.14556223154067993, 0.029774092137813568, 0.15217868983745575, 0.00661646481603384, 0.21603967249393463, 0.13294748961925507, 0.4154609143733978, 0.23265810310840607, 0.9469527006149292, 0.9373047351837158, 0.05959741026163101, 0.9824644327163696, 0.9873613715171814, 0.18059155344963074, 0.42138028144836426, 0.39128169417381287, 0.9951812624931335, 0.03606656566262245, 0.14877459406852722, 0.8114977478981018, 0.8848569989204407, 0.9396573901176453, 0.04777919128537178, 0.8337920904159546, 0.0018953680992126465, 0.9761145710945129, 0.0056861042976379395, 0.01705831289291382, 0.9047274589538574, 0.043082259595394135, 0.043082259595394135, 0.9635801315307617, 0.025376398116350174, 0.3045167624950409, 0.5836571455001831, 0.08881739526987076, 0.1290266513824463, 0.8386732339859009, 0.9404022097587585, 0.9964156746864319, 0.9160116910934448, 0.8645023107528687, 0.11970032006502151, 0.013300036080181599, 0.9184715747833252, 0.9951056838035583, 0.9718340039253235, 0.7636731266975403, 0.16970513761043549, 0.0694248303771019, 0.9839394688606262, 0.03549274802207947, 0.9287269115447998, 0.011830916628241539, 0.017746374011039734, 0.008873187005519867, 0.9076700210571289, 0.9239111542701721, 0.20573416352272034, 0.14962483942508698, 0.09351553022861481, 0.1402732878923416, 0.4021167755126953, 0.27925223112106323, 0.19039924442768097, 0.5204246044158936, 0.9573578834533691, 0.9843894839286804, 0.8355249762535095, 0.1539124995470047, 0.9300444722175598, 0.9746049046516418, 0.9641305804252625, 0.039595477283000946, 0.8473432064056396, 0.05147411674261093, 0.019797738641500473, 0.04355502128601074, 0.8984900712966919, 0.11360886693000793, 0.6177482008934021, 0.1846144050359726, 0.0781060978770256, 0.6569105982780457, 0.10427152365446091, 0.23982451856136322, 0.138082817196846, 0.5128790736198425, 0.33534398674964905, 0.9636400938034058, 0.5513949394226074, 0.2888259291648865, 0.13128450512886047, 0.13484814763069153, 0.8642092347145081, 0.022943805903196335, 0.04588761180639267, 0.8259770274162292, 0.09177522361278534, 0.9841898083686829, 0.9559838771820068, 0.8843984007835388, 0.9883882403373718, 0.3236471116542816, 0.5477104783058167, 0.12945884466171265, 0.9721986651420593, 0.7657830119132996, 0.983473539352417, 0.25260597467422485, 0.7217313051223755, 0.010718012228608131, 0.9003130197525024, 0.0589490681886673, 0.021436024457216263, 0.005359006114304066, 0.06458572298288345, 0.7298187017440796, 0.20021574199199677, 0.2361059933900833, 0.35415899753570557, 0.35415899753570557, 0.030077068135142326, 0.13534680008888245, 0.6466569304466248, 0.18547524511814117, 0.960411012172699, 0.9620071053504944, 0.5331568717956543, 0.07898620516061783, 0.2961982786655426, 0.05923965573310852, 0.9891366958618164, 0.962060272693634, 0.8807684779167175, 0.2507109045982361, 0.5372377038002014, 0.19698715209960938, 0.9500277042388916, 0.996802806854248, 0.3191973567008972, 0.15714330971240997, 0.4517870247364044, 0.019642913714051247, 0.04419655725359917, 0.004910728428512812, 0.9729412198066711, 0.9495630860328674, 0.8969326615333557, 0.08049395680427551, 0.011499136686325073, 0.9251391887664795, 0.9427952170372009, 0.978958010673523, 0.9521968364715576, 0.9951103925704956, 0.02939469926059246, 0.6728120446205139, 0.09798233211040497, 0.14697350561618805, 0.009798233397305012, 0.03919293358922005, 0.9649437069892883, 0.9977169036865234, 0.9903079271316528, 0.11219416558742523, 0.701213538646698, 0.028048541396856308, 0.06310921907424927, 0.04207281395792961, 0.06310921907424927, 0.46843189001083374, 0.529531717300415, 0.2913077175617218, 0.6311666965484619, 0.20571041107177734, 0.7771282196044922, 0.9770530462265015, 0.2317294478416443, 0.09269177913665771, 0.22014297544956207, 0.3823535740375519, 0.05793236196041107, 0.9880209565162659, 0.16215087473392487, 0.530108630657196, 0.0779571533203125, 0.20892515778541565, 0.018709715455770493, 0.1704532951116562, 0.7329491376876831, 0.0852266475558281, 0.9779691100120544, 0.32429271936416626, 0.543813943862915, 0.12971708178520203, 0.9766715168952942, 0.987648606300354, 0.3367736339569092, 0.6254367828369141, 0.07783112674951553, 0.3632119297981262, 0.1816059648990631, 0.3718598186969757, 0.960648775100708, 0.37546220421791077, 0.10357577353715897, 0.18773110210895538, 0.31720080971717834, 0.01294697169214487, 0.7972134351730347, 0.2151639759540558, 0.24672137200832367, 0.39016401767730713, 0.10327871143817902, 0.04303279519081116, 0.9607140421867371, 0.3360266089439392, 0.547981858253479, 0.10856244713068008, 0.9358545541763306, 0.05615127459168434, 0.3058578670024872, 0.572250247001648, 0.11839659512042999, 0.9604774117469788, 0.45320844650268555, 0.044432200491428375, 0.21327456831932068, 0.03554576262831688, 0.01777288131415844, 0.1866152435541153, 0.03554576262831688, 0.9859535098075867, 0.9872827529907227, 0.8027967214584351, 0.19149279594421387, 0.9785820245742798, 0.013979743234813213, 0.9896771311759949, 0.03967908397316933, 0.9522980451583862, 0.12159588187932968, 0.18239381909370422, 0.22292578220367432, 0.18239381909370422, 0.2634577453136444, 0.9791326522827148, 0.16035602986812592, 0.48106810450553894, 0.3474380671977997, 0.9936237335205078, 0.9228126406669617, 0.9976922273635864, 0.9194232225418091, 0.07661860436201096, 0.9711973071098328, 0.44400936365127563, 0.19980421662330627, 0.1942541003227234, 0.1498531699180603, 0.01110023446381092, 0.9554048180580139, 0.9692135453224182, 0.9739572405815125, 0.9941216111183167, 0.9547736644744873, 0.9874123930931091, 0.7967909574508667, 0.9366976022720337, 0.5089808106422424, 0.49142977595329285, 0.31525394320487976, 0.5554473996162415, 0.12009673565626144, 0.941608726978302, 0.9931325316429138, 0.991240918636322, 0.9419106245040894, 0.9368274211883545, 0.040571268647909164, 0.014753188006579876, 0.007376594003289938, 0.9785028696060181, 0.9054202437400818, 0.08076480031013489, 0.7188067436218262, 0.20191200077533722, 0.5688531398773193, 0.355533242225647, 0.9961868524551392, 0.9697853922843933, 0.03169233351945877, 0.14278122782707214, 0.11803248524665833, 0.37123119831085205, 0.23225747048854828, 0.1332624852657318, 0.989128828048706, 0.9288949370384216, 0.6358864307403564, 0.1891893446445465, 0.0210210382938385, 0.14189201593399048, 0.01051051914691925, 0.08595640957355499, 0.22348666191101074, 0.2922517955303192, 0.17191281914710999, 0.22348666191101074, 0.22153739631175995, 0.7532271146774292, 0.9648498296737671, 0.036434732377529144, 0.947303056716919, 0.030037911608815193, 0.9071449041366577, 0.006007582414895296, 0.05406824126839638, 0.9754713773727417, 0.1685815453529358, 0.1685815453529358, 0.6613584160804749, 0.9551872611045837, 0.831433117389679, 0.1650172621011734, 0.9755833148956299, 0.31116172671318054, 0.6941300630569458, 0.9904831647872925, 0.004628425929695368, 0.9820865392684937, 0.7225133180618286, 0.23187637329101562, 0.023523690178990364, 0.023523690178990364, 0.8446356654167175, 0.14689315855503082, 0.9629027843475342, 0.8424782156944275, 0.15455536544322968, 0.003030497347936034, 0.9930245280265808, 0.9854627251625061, 0.7819480895996094, 0.18617811799049377, 0.9624178409576416, 0.8913028240203857, 0.8457244038581848, 0.2923447787761688, 0.3136062026023865, 0.37606167793273926, 0.005315359216183424, 0.013288398273289204, 0.9763792753219604, 0.35466626286506653, 0.49307259917259216, 0.15570713579654694, 0.12080272287130356, 0.03020068071782589, 0.3020068109035492, 0.5134115815162659, 0.3543403446674347, 0.18560685217380524, 0.2362269014120102, 0.2193535566329956, 0.9762630462646484, 0.8975203633308411, 0.9855555295944214, 0.8360702395439148, 0.14081183075904846, 0.023468637838959694, 0.7458911538124084, 0.049130555242300034, 0.13399243354797363, 0.06997382640838623, 0.9642938375473022, 0.9181424975395203, 0.9832566380500793, 0.09733020514249802, 0.6164246201515198, 0.25143635272979736, 0.03244340047240257], \"Term\": [\"ability\", \"ability\", \"ability\", \"abstract\", \"abstract\", \"abstract\", \"abstract\", \"abstract\", \"accuracy\", \"accurate\", \"accurate\", \"ace\", \"activity\", \"adapt\", \"admission\", \"admit\", \"adult\", \"adult\", \"adult\", \"age\", \"age\", \"age\", \"airline\", \"airport\", \"algorithm\", \"also\", \"also\", \"also\", \"also\", \"amount\", \"analysis\", \"analysis\", \"analysis\", \"analysis\", \"analysis\", \"analysis\", \"analytical\", \"animal\", \"antibody\", \"antibody\", \"anxiety\", \"approval\", \"area\", \"area\", \"arrival\", \"arrival\", \"article\", \"ask\", \"assay\", \"assay\", \"association\", \"association\", \"association\", \"auc\", \"author\", \"author\", \"author\", \"author\", \"author\", \"authority\", \"balance\", \"base\", \"base\", \"base\", \"base\", \"basic_reproduction\", \"bat\", \"become\", \"become\", \"become\", \"bed\", \"bind\", \"cancer\", \"cap\", \"capable\", \"cardiovascular\", \"care\", \"care\", \"care\", \"carriage\", \"case\", \"case\", \"case\", \"case\", \"case\", \"case\", \"cause\", \"cause\", \"cause\", \"cause\", \"cause\", \"cd\", \"cell\", \"cell\", \"change\", \"change\", \"change\", \"characteristic_curve\", \"chest\", \"child\", \"child\", \"chronic\", \"ci\", \"city\", \"city\", \"climate\", \"climatic\", \"clinical\", \"clinical\", \"clinical_characteristic\", \"come\", \"come\", \"comorbiditie\", \"compare\", \"compare\", \"compare\", \"compare\", \"compare\", \"complex\", \"complication\", \"conclusion\", \"conclusion\", \"conclusion\", \"conduct\", \"conduct\", \"conduct\", \"confirm\", \"confirm\", \"confirm\", \"confirm\", \"confirm\", \"confirmation\", \"confound\", \"contact\", \"contact\", \"contact\", \"contact\", \"contact\", \"contact_trace\", \"containment\", \"control\", \"control\", \"control\", \"control\", \"control\", \"control_measure\", \"copd\", \"coronaviruse\", \"coronaviruse\", \"cost\", \"cough\", \"country\", \"country\", \"covid\", \"covid\", \"covid\", \"covid\", \"covid\", \"crp\", \"curve\", \"cytokine\", \"damage\", \"damage\", \"damp\", \"dataset\", \"dataset\", \"dataset\", \"datum\", \"datum\", \"datum\", \"datum\", \"datum\", \"day\", \"day\", \"day\", \"day\", \"day\", \"day\", \"death\", \"death\", \"death\", \"deceased\", \"decision\", \"decision\", \"decision\", \"deliver\", \"delivery\", \"demand\", \"depression\", \"detect\", \"detect\", \"detect\", \"detection\", \"develop\", \"develop\", \"develop\", \"develop\", \"diabete\", \"diagnosis\", \"diagnosis\", \"diagnosis\", \"diagnostic\", \"die\", \"different\", \"different\", \"different\", \"different\", \"discharge\", \"discharge\", \"discussion\", \"disease\", \"disease\", \"disease\", \"disease\", \"disease\", \"disease\", \"disease_severity\", \"display\", \"display\", \"display\", \"distancing_measure\", \"distribute\", \"do\", \"do\", \"document\", \"domain\", \"drop\", \"dsrna\", \"duration\", \"dynamic\", \"dynamic\", \"early_renal\", \"effectiveness\", \"emotion\", \"encode\", \"endogenous\", \"endogenous\", \"enrol\", \"environmental\", \"epidemic\", \"epidemic\", \"epitope\", \"especially\", \"especially\", \"especially\", \"especially\", \"estimate\", \"estimate\", \"estimation\", \"european\", \"event\", \"event\", \"evolutionary\", \"evolve\", \"examine\", \"examine\", \"examine\", \"expansion\", \"expansion\", \"exponential\", \"express\", \"expression\", \"fatigue\", \"female\", \"female\", \"fever\", \"fever\", \"final\", \"final\", \"forecast\", \"frequency\", \"frequently\", \"funder\", \"funder\", \"funder\", \"funder\", \"funder\", \"gender\", \"gene\", \"gene\", \"genetic\", \"genome\", \"genomic\", \"global\", \"global\", \"global\", \"global\", \"goal\", \"government\", \"grant\", \"grant\", \"grant\", \"group\", \"group\", \"group\", \"group\", \"group\", \"growth\", \"growth\", \"healthcare\", \"heart\", \"heat\", \"high\", \"high\", \"high\", \"high\", \"high\", \"high\", \"history\", \"history\", \"history\", \"homeostasis\", \"hospital\", \"hospital\", \"hospital\", \"hospitalization\", \"hospitalize\", \"hospitalized_patient\", \"host\", \"household\", \"human\", \"human\", \"hypertension\", \"identify\", \"identify\", \"identify\", \"identify\", \"identify\", \"ifns\", \"image\", \"impact\", \"impact\", \"impact\", \"impact\", \"impact\", \"implement\", \"impose\", \"inactivation\", \"include\", \"include\", \"include\", \"include\", \"include\", \"increase\", \"increase\", \"increase\", \"increase\", \"increase\", \"incubation\", \"independent\", \"independent\", \"indicator\", \"individual\", \"individual\", \"individual\", \"infect\", \"infect\", \"infect\", \"infect\", \"infect\", \"infection\", \"infection\", \"infection\", \"infection\", \"infection\", \"infectious\", \"infectious\", \"infectiousness\", \"inference\", \"information\", \"information\", \"information\", \"information\", \"information\", \"injury\", \"injury\", \"interaction\", \"interestingly\", \"interval\", \"intervention\", \"intervention\", \"introduction\", \"investigation\", \"iranian\", \"isolation\", \"isolation\", \"kidney\", \"kit\", \"laboratory\", \"laboratory\", \"large\", \"large\", \"large\", \"large\", \"latent\", \"level\", \"level\", \"level\", \"level\", \"level\", \"library\", \"license\", \"license\", \"license\", \"line\", \"line\", \"liver\", \"low\", \"low\", \"low\", \"low\", \"low\", \"low\", \"lym\", \"lymphocyte\", \"machinery\", \"mainland\", \"majority\", \"male\", \"male\", \"male\", \"man\", \"manifestation\", \"maternal\", \"maximum\", \"may\", \"may\", \"may\", \"may\", \"may\", \"may\", \"mean\", \"mean\", \"mean\", \"mean\", \"mean_age\", \"measure\", \"measure\", \"mechanism\", \"mediate\", \"medrxiv\", \"medrxiv\", \"medrxiv\", \"mer\", \"method\", \"method\", \"method\", \"migration\", \"mild\", \"mild\", \"mobility\", \"model\", \"model\", \"model\", \"model\", \"moderate\", \"moderate\", \"moderate\", \"month\", \"mortality\", \"mortality\", \"mortality\", \"mortality\", \"movement\", \"movement\", \"multivariate\", \"mutation\", \"namely\", \"negative\", \"negative\", \"negative\", \"neonatal\", \"nidovirale\", \"note\", \"novel\", \"novel\", \"novel\", \"nucleic_acid\", \"number\", \"number\", \"number\", \"number\", \"number\", \"numerical\", \"observational\", \"observe\", \"observe\", \"observe\", \"observe\", \"observe\", \"occur\", \"occur\", \"occur\", \"official\", \"old\", \"onset\", \"onset\", \"opacity\", \"orf\", \"other\", \"outbreak\", \"outbreak\", \"outbreak\", \"outbreak\", \"outbreak\", \"overwhelmed\", \"pandemic\", \"pandemic\", \"pandemic\", \"pandemic\", \"parameter\", \"parameter\", \"parameter\", \"participant\", \"participant\", \"participant\", \"particle\", \"particularly\", \"particularly\", \"particularly\", \"patient\", \"patient\", \"pattern\", \"pattern\", \"pattern\", \"pattern\", \"peak\", \"perceive\", \"percent\", \"performance\", \"permission\", \"permission\", \"permission\", \"person\", \"platelet\", \"policy\", \"pool\", \"pool\", \"population\", \"population\", \"population\", \"population\", \"population\", \"positive\", \"positive\", \"positive\", \"predictor\", \"predictor\", \"predictor\", \"preprint\", \"preprint\", \"preprint\", \"preprint\", \"presentation\", \"pressure\", \"probability\", \"probability\", \"probability\", \"probability\", \"profile\", \"prognosis\", \"projection\", \"proportion\", \"proportion\", \"proportion\", \"protective\", \"protein\", \"provide\", \"provide\", \"provide\", \"provide\", \"provide\", \"provide\", \"province\", \"psychological\", \"public\", \"public\", \"public\", \"put\", \"quality\", \"quarantine\", \"quick\", \"rapid\", \"rate\", \"rate\", \"rate\", \"rate\", \"rate\", \"rate\", \"receive\", \"receptor\", \"recommend\", \"reduce\", \"reduce\", \"reduce\", \"reduce\", \"reduce\", \"reduce\", \"reduction\", \"reduction\", \"regression\", \"regression\", \"relative\", \"relative\", \"relevant\", \"remain\", \"remain\", \"remain\", \"remain\", \"remain\", \"replication\", \"report\", \"report\", \"report\", \"report\", \"report\", \"research\", \"research\", \"research\", \"researcher\", \"reserve\", \"reserve\", \"reserve\", \"resident\", \"resolution\", \"respect\", \"respect\", \"respiratory\", \"respiratory\", \"respiratory\", \"respiratory\", \"respondent\", \"response\", \"response\", \"response\", \"response\", \"response\", \"restrictive\", \"result\", \"result\", \"result\", \"result\", \"result\", \"retrospectively\", \"reuse_allowed\", \"reuse_allowed\", \"reuse_allowed\", \"reveal\", \"reveal\", \"right\", \"right\", \"right\", \"rise\", \"risk\", \"risk\", \"risk\", \"risk\", \"risk\", \"risk\", \"risk\", \"rnase\", \"route\", \"sample\", \"sample\", \"scenario\", \"scenario\", \"score\", \"screen\", \"screen\", \"secondary\", \"secondary\", \"secondary\", \"secondary\", \"secondary\", \"seek\", \"self\", \"self\", \"self\", \"sensitivity\", \"sentiment\", \"sequence\", \"severe\", \"severe\", \"sex\", \"show\", \"show\", \"show\", \"show\", \"show\", \"signature\", \"simulate\", \"sir\", \"site\", \"sleep\", \"slow\", \"smoke\", \"smoker\", \"social\", \"social\", \"source\", \"source\", \"source\", \"spatial\", \"specie\", \"specificity\", \"specimen\", \"spread\", \"spread\", \"spread\", \"spread\", \"standard\", \"stochastic\", \"strategy\", \"strategy\", \"strategy\", \"stress\", \"stress\", \"structural\", \"structure\", \"structure\", \"study\", \"study\", \"study\", \"study\", \"study\", \"subsequent\", \"sufficient\", \"suggest\", \"suggest\", \"suggest\", \"suggest\", \"suggest\", \"support\", \"support\", \"support\", \"support\", \"support\", \"survey\", \"survey\", \"survival\", \"susceptibility\", \"susceptibility\", \"symptom\", \"symptom\", \"symptom\", \"symptom\", \"symptom_onset\", \"system\", \"system\", \"system\", \"systemic\", \"target\", \"target\", \"temperate\", \"temperature\", \"temperature\", \"test\", \"test\", \"therapy\", \"time\", \"time\", \"time\", \"time\", \"timely\", \"timely\", \"topic\", \"transmission\", \"transmission\", \"transmission\", \"treatment\", \"trend\", \"trigger\", \"trigger\", \"tropism\", \"uncertainty\", \"unlikely\", \"use\", \"use\", \"use\", \"use\", \"use\", \"validation\", \"value\", \"value\", \"value\", \"variable\", \"variable\", \"variable\", \"variable\", \"variation\", \"variation\", \"variation\", \"variation\", \"ventilation\", \"ventilator\", \"version\", \"viral\", \"viral\", \"viral\", \"virus\", \"virus\", \"virus\", \"virus\", \"wave\", \"weather\", \"woman\", \"year\", \"year\", \"year\", \"year\"]}, \"R\": 30, \"lambda.step\": 0.01, \"plot.opts\": {\"xlab\": \"PC1\", \"ylab\": \"PC2\"}, \"topic.order\": [3, 2, 6, 1, 7, 4, 8, 5]};\n",
       "\n",
       "function LDAvis_load_lib(url, callback){\n",
       "  var s = document.createElement('script');\n",
       "  s.src = url;\n",
       "  s.async = true;\n",
       "  s.onreadystatechange = s.onload = callback;\n",
       "  s.onerror = function(){console.warn(\"failed to load library \" + url);};\n",
       "  document.getElementsByTagName(\"head\")[0].appendChild(s);\n",
       "}\n",
       "\n",
       "if(typeof(LDAvis) !== \"undefined\"){\n",
       "   // already loaded: just create the visualization\n",
       "   !function(LDAvis){\n",
       "       new LDAvis(\"#\" + \"ldavis_el7241130272104481836842629\", ldavis_el7241130272104481836842629_data);\n",
       "   }(LDAvis);\n",
       "}else if(typeof define === \"function\" && define.amd){\n",
       "   // require.js is available: use it to load d3/LDAvis\n",
       "   require.config({paths: {d3: \"https://cdnjs.cloudflare.com/ajax/libs/d3/3.5.5/d3.min\"}});\n",
       "   require([\"d3\"], function(d3){\n",
       "      window.d3 = d3;\n",
       "      LDAvis_load_lib(\"https://cdn.rawgit.com/bmabey/pyLDAvis/files/ldavis.v1.0.0.js\", function(){\n",
       "        new LDAvis(\"#\" + \"ldavis_el7241130272104481836842629\", ldavis_el7241130272104481836842629_data);\n",
       "      });\n",
       "    });\n",
       "}else{\n",
       "    // require.js not available: dynamically load d3 & LDAvis\n",
       "    LDAvis_load_lib(\"https://cdnjs.cloudflare.com/ajax/libs/d3/3.5.5/d3.min.js\", function(){\n",
       "         LDAvis_load_lib(\"https://cdn.rawgit.com/bmabey/pyLDAvis/files/ldavis.v1.0.0.js\", function(){\n",
       "                 new LDAvis(\"#\" + \"ldavis_el7241130272104481836842629\", ldavis_el7241130272104481836842629_data);\n",
       "            })\n",
       "         });\n",
       "}\n",
       "</script>"
      ],
      "text/plain": [
       "PreparedData(topic_coordinates=              x         y  topics  cluster       Freq\n",
       "topic                                                \n",
       "2      0.076540 -0.244023       1        1  28.699783\n",
       "1      0.166806 -0.028214       2        1  22.967838\n",
       "5      0.189646 -0.020096       3        1  21.365686\n",
       "0      0.142672  0.239784       4        1  10.627996\n",
       "6      0.014028  0.020839       5        1   9.017067\n",
       "3     -0.158850 -0.040445       6        1   3.277465\n",
       "7     -0.196716  0.084485       7        1   2.802106\n",
       "4     -0.234126 -0.012330       8        1   1.242055, topic_info=              Term         Freq        Total Category  logprob  loglift\n",
       "45         patient  1015.000000  1015.000000  Default  30.0000  30.0000\n",
       "108          model   527.000000   527.000000  Default  29.0000  29.0000\n",
       "7             case   689.000000   689.000000  Default  28.0000  28.0000\n",
       "394        protein   451.000000   451.000000  Default  27.0000  27.0000\n",
       "12           covid   590.000000   590.000000  Default  26.0000  26.0000\n",
       "...            ...          ...          ...      ...      ...      ...\n",
       "3762    endogenous     5.689698    14.066617   Topic8  -5.2356   3.4833\n",
       "1674        female     7.005270    31.441647   Topic8  -5.0276   2.8869\n",
       "124         stress     5.194724    14.063383   Topic8  -5.3267   3.3925\n",
       "2067       trigger     5.465658    26.856003   Topic8  -5.2758   2.7964\n",
       "114   particularly     5.269437    38.085224   Topic8  -5.3124   2.4105\n",
       "\n",
       "[468 rows x 6 columns], token_table=      Topic      Freq      Term\n",
       "term                           \n",
       "0         1  0.574694   ability\n",
       "0         3  0.102624   ability\n",
       "0         7  0.307872   ability\n",
       "76        1  0.142179  abstract\n",
       "76        2  0.324168  abstract\n",
       "...     ...       ...       ...\n",
       "1066      4  0.983257     woman\n",
       "192       1  0.097330      year\n",
       "192       4  0.616425      year\n",
       "192       5  0.251436      year\n",
       "192       7  0.032443      year\n",
       "\n",
       "[810 rows x 3 columns], R=30, lambda_step=0.01, plot_opts={'xlab': 'PC1', 'ylab': 'PC2'}, topic_order=[3, 2, 6, 1, 7, 4, 8, 5])"
      ]
     },
     "execution_count": 316,
     "metadata": {},
     "output_type": "execute_result"
    }
   ],
   "source": [
    "%%time\n",
    "pyLDAvis.enable_notebook()\n",
    "vis = pyLDAvis.gensim.prepare(lda_model, corpus, id2word)\n",
    "vis"
   ]
  },
  {
   "cell_type": "code",
   "execution_count": 317,
   "metadata": {},
   "outputs": [],
   "source": [
    "pyLDAvis.save_html(vis, './lda4topics_v2.html')"
   ]
  },
  {
   "cell_type": "code",
   "execution_count": 319,
   "metadata": {},
   "outputs": [
    {
     "name": "stdout",
     "output_type": "stream",
     "text": [
      "[(0, '0.096*\"patient\" + 0.025*\"severe\" + 0.024*\"covid\" + 0.020*\"case\" + 0.016*\"symptom\" + 0.013*\"study\" + 0.011*\"include\" + 0.011*\"day\" + 0.011*\"group\" + 0.010*\"disease\" + 0.009*\"clinical\" + 0.009*\"license\" + 0.008*\"year\" + 0.008*\"compare\" + 0.008*\"age\" + 0.008*\"laboratory\" + 0.007*\"admission\" + 0.007*\"confirm\" + 0.007*\"report\" + 0.007*\"datum\"'), (1, '0.026*\"model\" + 0.023*\"case\" + 0.018*\"epidemic\" + 0.016*\"estimate\" + 0.016*\"number\" + 0.014*\"transmission\" + 0.013*\"spread\" + 0.013*\"country\" + 0.012*\"use\" + 0.011*\"time\" + 0.011*\"outbreak\" + 0.011*\"covid\" + 0.010*\"rate\" + 0.010*\"infection\" + 0.009*\"death\" + 0.009*\"measure\" + 0.009*\"report\" + 0.008*\"population\" + 0.008*\"datum\" + 0.007*\"day\"'), (2, '0.020*\"virus\" + 0.018*\"protein\" + 0.014*\"human\" + 0.012*\"cell\" + 0.012*\"viral\" + 0.009*\"use\" + 0.009*\"sequence\" + 0.007*\"host\" + 0.007*\"also\" + 0.007*\"identify\" + 0.006*\"show\" + 0.006*\"ace\" + 0.006*\"structure\" + 0.006*\"coronaviruse\" + 0.006*\"bind\" + 0.005*\"infection\" + 0.005*\"target\" + 0.005*\"may\" + 0.005*\"receptor\" + 0.005*\"cause\"'), (3, '0.019*\"datum\" + 0.017*\"curve\" + 0.010*\"temperature\" + 0.009*\"mean\" + 0.009*\"estimation\" + 0.009*\"amount\" + 0.008*\"parameter\" + 0.008*\"final\" + 0.007*\"climate\" + 0.006*\"forecast\" + 0.006*\"analytical\" + 0.006*\"value\" + 0.006*\"global\" + 0.006*\"variable\" + 0.006*\"case\" + 0.006*\"maximum\" + 0.006*\"come\" + 0.006*\"expansion\" + 0.005*\"decision\" + 0.005*\"probability\"'), (4, '0.027*\"rnase\" + 0.019*\"pool\" + 0.014*\"male\" + 0.014*\"crp\" + 0.010*\"survival\" + 0.009*\"chronic\" + 0.009*\"uncertainty\" + 0.009*\"independent\" + 0.009*\"ventilator\" + 0.008*\"delivery\" + 0.008*\"injury\" + 0.008*\"gender\" + 0.007*\"cancer\" + 0.007*\"early_renal\" + 0.007*\"respondent\" + 0.007*\"female\" + 0.006*\"smoker\" + 0.006*\"ifns\" + 0.006*\"dsrna\" + 0.006*\"systemic\"'), (5, '0.015*\"use\" + 0.012*\"test\" + 0.011*\"study\" + 0.010*\"method\" + 0.009*\"covid\" + 0.008*\"author\" + 0.008*\"treatment\" + 0.008*\"detection\" + 0.008*\"base\" + 0.008*\"funder\" + 0.007*\"patient\" + 0.007*\"result\" + 0.007*\"preprint\" + 0.007*\"identify\" + 0.007*\"clinical\" + 0.007*\"information\" + 0.007*\"detect\" + 0.007*\"develop\" + 0.006*\"right\" + 0.006*\"positive\"'), (6, '0.014*\"change\" + 0.012*\"infection\" + 0.009*\"pattern\" + 0.009*\"study\" + 0.008*\"level\" + 0.007*\"area\" + 0.007*\"disease\" + 0.007*\"transmission\" + 0.006*\"response\" + 0.006*\"virus\" + 0.006*\"event\" + 0.006*\"may\" + 0.006*\"respiratory\" + 0.006*\"observe\" + 0.005*\"research\" + 0.005*\"occur\" + 0.005*\"child\" + 0.005*\"association\" + 0.005*\"source\" + 0.005*\"large\"'), (7, '0.024*\"contact\" + 0.021*\"old\" + 0.020*\"age\" + 0.012*\"cap\" + 0.012*\"relevant\" + 0.011*\"social\" + 0.011*\"intervention\" + 0.011*\"duration\" + 0.011*\"reduction\" + 0.010*\"impact\" + 0.010*\"healthcare\" + 0.009*\"risk\" + 0.008*\"symptom_onset\" + 0.008*\"quality\" + 0.007*\"anxiety\" + 0.007*\"adult\" + 0.007*\"survey\" + 0.007*\"participant\" + 0.007*\"low\" + 0.006*\"psychological\"')]\n"
     ]
    }
   ],
   "source": [
    "optimal_model = lda_model\n",
    "\n",
    "model_topics = optimal_model.show_topics(formatted=False)\n",
    "print(optimal_model.print_topics(num_words=20))"
   ]
  },
  {
   "cell_type": "code",
   "execution_count": null,
   "metadata": {},
   "outputs": [],
   "source": []
  }
 ],
 "metadata": {
  "kernelspec": {
   "display_name": "Python 3",
   "language": "python",
   "name": "python3"
  },
  "language_info": {
   "codemirror_mode": {
    "name": "ipython",
    "version": 3
   },
   "file_extension": ".py",
   "mimetype": "text/x-python",
   "name": "python",
   "nbconvert_exporter": "python",
   "pygments_lexer": "ipython3",
   "version": "3.7.6"
  }
 },
 "nbformat": 4,
 "nbformat_minor": 4
}
